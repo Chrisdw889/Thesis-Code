{
 "cells": [
  {
   "cell_type": "code",
   "execution_count": null,
   "id": "2dbd745b-0777-4845-a9b2-8d85cfbc5932",
   "metadata": {},
   "outputs": [],
   "source": [
    "import os, pickle\n",
    "\n",
    "import numpy as np\n",
    "import pandas as pd\n",
    "\n",
    "from scipy.io import loadmat\n",
    "from scipy.optimize import curve_fit\n",
    "\n",
    "import StaticWindow as sw\n",
    "\n",
    "import matplotlib.pyplot as plt\n",
    "import seaborn as sns"
   ]
  },
  {
   "cell_type": "markdown",
   "id": "5485203d-6f16-4788-865b-c97a01eae8e4",
   "metadata": {},
   "source": [
    "# Load Data and Tidy"
   ]
  },
  {
   "cell_type": "code",
   "execution_count": null,
   "id": "2ce9063a-1974-47bb-b80d-5da8fe6dd8c6",
   "metadata": {},
   "outputs": [],
   "source": [
    "fname = 'dataout_333.mat.cor.mat'\n",
    "data = loadmat(fname)['ch2']"
   ]
  },
  {
   "cell_type": "code",
   "execution_count": null,
   "id": "82f3fd8d-07c1-4a9c-bfc8-61fa5d2a2f15",
   "metadata": {},
   "outputs": [],
   "source": [
    "# Visualise Loaded Trace\n",
    "fig, ax = plt.subplots(figsize=(6, 4), dpi=600)\n",
    "all_x = np.linspace(0, 10, 10000000)\n",
    "ax.plot(all_x, data * 1E9)\n",
    "\n",
    "ax.set_xlabel(\"Time / s\", weight='bold')\n",
    "ax.set_ylabel(\"Current / nA\", weight='bold')\n",
    "\n",
    "ax.tick_params(width=1.5)\n",
    "for axis in ['top', 'right', 'bottom', 'left']:\n",
    "    ax.spines[axis].set_linewidth(1.5)\n",
    "\n",
    "# fig.savefig('Expt Trace.png')"
   ]
  },
  {
   "cell_type": "code",
   "execution_count": null,
   "id": "0b39ecfa-2a35-44df-9944-4eb6d43fc63c",
   "metadata": {
    "tags": []
   },
   "outputs": [],
   "source": [
    "# Remove sloping feature and flip the y axis\n",
    "data = data[600000:] * -1\n",
    "fig, ax = plt.subplots()\n",
    "ax.plot(data)"
   ]
  },
  {
   "cell_type": "code",
   "execution_count": null,
   "id": "7f47fd3a-5ccb-4535-bb2b-063097675617",
   "metadata": {
    "tags": []
   },
   "outputs": [],
   "source": [
    "# Convert y axis to pico amps\n",
    "data_scaled = data * 1E12\n",
    "fig, ax = plt.subplots()\n",
    "h = ax.hist(data_scaled, bins=147)"
   ]
  },
  {
   "cell_type": "markdown",
   "id": "25073328-8815-43ce-862c-6ac093709cc7",
   "metadata": {},
   "source": [
    "# Event Detection"
   ]
  },
  {
   "cell_type": "markdown",
   "id": "8b5bd261-df49-4797-9d41-0172095d6714",
   "metadata": {},
   "source": [
    "Three repeat runs on experimental data are performed. Each repeat utilised a different window size and step size."
   ]
  },
  {
   "cell_type": "markdown",
   "id": "56ef7c15-5c13-4e4c-a5a8-a7ecbcde5299",
   "metadata": {},
   "source": [
    "## Analyse Background 1"
   ]
  },
  {
   "cell_type": "code",
   "execution_count": null,
   "id": "f9b321de-d5b2-494f-b5b0-110baa2907d1",
   "metadata": {},
   "outputs": [],
   "source": [
    "background_results_1 = sw.analyse_background([data_scaled], 1000, 100)\n",
    "means_1, bin_mids_1, bin_counts_1, gauss_params_1, norm_factor_1 = background_results_1"
   ]
  },
  {
   "cell_type": "code",
   "execution_count": null,
   "id": "de26b8e1-612d-493c-b902-618d8081fd10",
   "metadata": {},
   "outputs": [],
   "source": [
    "fig, ax = plt.subplots()\n",
    "ax.bar(bin_mids_1, bin_counts_1 / norm_factor_1, np.diff(bin_mids_1)[0])\n",
    "\n",
    "x = np.linspace(bin_mids_1[0], bin_mids_1[-1], 100)\n",
    "y = sw.gauss(x, *gauss_params_1)\n",
    "\n",
    "ax.plot(x, y / norm_factor_1, color='red')"
   ]
  },
  {
   "cell_type": "code",
   "execution_count": null,
   "id": "20160266-8408-4007-b4cb-2bfbf88a40ef",
   "metadata": {},
   "outputs": [],
   "source": [
    "threshold = 0.9999\n",
    "gauss_params_norm_1 = gauss_params_1.copy()\n",
    "gauss_params_norm_1[0] = gauss_params_norm_1[0] / norm_factor_1\n",
    "thresh_val_1 = sw.limit_finder(gauss_params_norm_1, means_1.min(), means_1.max(), threshold)\n",
    "thresh_val_1"
   ]
  },
  {
   "cell_type": "markdown",
   "id": "b8e0335a-ef1b-44d0-a93c-e9d0197f0692",
   "metadata": {},
   "source": [
    "## Event Search 1"
   ]
  },
  {
   "cell_type": "code",
   "execution_count": null,
   "id": "2281f923-011d-4efb-b1f0-118be5968333",
   "metadata": {},
   "outputs": [],
   "source": [
    "window_size = 1000\n",
    "step_size = 100"
   ]
  },
  {
   "cell_type": "code",
   "execution_count": null,
   "id": "0cd25f0e-eea5-43c2-9722-94bb44671592",
   "metadata": {},
   "outputs": [],
   "source": [
    "evt_locs1 = sw.event_search([data_scaled], thresh_val_1, window_size, step_size)\n",
    "evt_locs1"
   ]
  },
  {
   "cell_type": "markdown",
   "id": "474b08fb-3bce-445d-85c1-a883a6cc987a",
   "metadata": {},
   "source": [
    "## Analyse Background 2"
   ]
  },
  {
   "cell_type": "code",
   "execution_count": null,
   "id": "dc34b1ff-3aa3-41f3-be0d-fb605846d3f6",
   "metadata": {},
   "outputs": [],
   "source": [
    "background_results_2 = sw.analyse_background([data_scaled], 100, 10)\n",
    "means_2, bin_mids_2, bin_counts_2, gauss_params_2, norm_factor_2 = background_results_2"
   ]
  },
  {
   "cell_type": "code",
   "execution_count": null,
   "id": "5661632b-4f53-4335-9fbf-6a8eac63cb9d",
   "metadata": {},
   "outputs": [],
   "source": [
    "fig, ax = plt.subplots()\n",
    "ax.bar(bin_mids_2, bin_counts_2 / norm_factor_2, np.diff(bin_mids_2)[0])\n",
    "\n",
    "x = np.linspace(bin_mids_2[0], bin_mids_2[-1], 100)\n",
    "y = sw.gauss(x, *gauss_params_2)\n",
    "\n",
    "ax.plot(x, y / norm_factor_2, color='red')"
   ]
  },
  {
   "cell_type": "code",
   "execution_count": null,
   "id": "aa8e1fdb-f760-463b-97d8-0f4799c5a957",
   "metadata": {},
   "outputs": [],
   "source": [
    "threshold = 0.9999\n",
    "gauss_params_norm_2 = gauss_params_2.copy()\n",
    "gauss_params_norm_2[0] = gauss_params_norm_2[0] / norm_factor_2\n",
    "thresh_val_2 = sw.limit_finder(gauss_params_norm_2, means_2.min(), means_2.max(), threshold)\n",
    "thresh_val_2"
   ]
  },
  {
   "cell_type": "markdown",
   "id": "c3595773-d221-41d9-9964-8ab3ee15b19e",
   "metadata": {},
   "source": [
    "## Event Search 2"
   ]
  },
  {
   "cell_type": "code",
   "execution_count": null,
   "id": "bd11877d-6dab-4cba-8cf0-58ac70813c19",
   "metadata": {},
   "outputs": [],
   "source": [
    "window_size = 100\n",
    "step_size = 10"
   ]
  },
  {
   "cell_type": "code",
   "execution_count": null,
   "id": "2096696f-89fe-4687-9e98-7ebbe8f799d2",
   "metadata": {
    "tags": []
   },
   "outputs": [],
   "source": [
    "evt_locs2 = sw.event_search([data_scaled], thresh_val_2, window_size, step_size)\n",
    "evt_locs2"
   ]
  },
  {
   "cell_type": "markdown",
   "id": "e3536d1d-6434-4079-8e87-027a1bb87d7f",
   "metadata": {},
   "source": [
    "## Analyse Background 3"
   ]
  },
  {
   "cell_type": "code",
   "execution_count": null,
   "id": "77ea4f3f-a5dc-49ae-b66b-40753ff2ddb6",
   "metadata": {},
   "outputs": [],
   "source": [
    "background_results_3 = sw.analyse_background([data_scaled], 500, 50)\n",
    "means_3, bin_mids_3, bin_counts_3, gauss_params_3, norm_factor_3 = background_results_3"
   ]
  },
  {
   "cell_type": "code",
   "execution_count": null,
   "id": "39cdeb2c-da35-443b-b620-b28087b43e68",
   "metadata": {},
   "outputs": [],
   "source": [
    "fig, ax = plt.subplots()\n",
    "ax.bar(bin_mids_3, bin_counts_3 / norm_factor_3, np.diff(bin_mids_3)[0])\n",
    "\n",
    "x = np.linspace(bin_mids_3[0], bin_mids_3[-1], 100)\n",
    "y = sw.gauss(x, *gauss_params_3)\n",
    "\n",
    "ax.plot(x, y / norm_factor_3, color='red')"
   ]
  },
  {
   "cell_type": "code",
   "execution_count": null,
   "id": "01e5513e-2a39-40b9-bd89-cd43e3c4ae65",
   "metadata": {},
   "outputs": [],
   "source": [
    "threshold = 0.9999\n",
    "gauss_params_norm_3 = gauss_params_3.copy()\n",
    "gauss_params_norm_3[0] = gauss_params_norm_3[0] / norm_factor_3\n",
    "thresh_val_3 = sw.limit_finder(gauss_params_norm_3, means_3.min(), means_3.max(), threshold)\n",
    "thresh_val_3"
   ]
  },
  {
   "cell_type": "markdown",
   "id": "769186c4-4eae-4070-8abf-9488016f47b5",
   "metadata": {},
   "source": [
    "## Event Search 3"
   ]
  },
  {
   "cell_type": "code",
   "execution_count": null,
   "id": "71344298-c216-4fbc-9db9-1d5bb4aa3262",
   "metadata": {},
   "outputs": [],
   "source": [
    "window_size = 500\n",
    "step_size = 50"
   ]
  },
  {
   "cell_type": "code",
   "execution_count": null,
   "id": "8d3eff3d-904b-4ca6-98ce-6da9d7d09941",
   "metadata": {
    "tags": []
   },
   "outputs": [],
   "source": [
    "evt_locs3 = sw.event_search([data_scaled], thresh_val_3, window_size, step_size)\n",
    "evt_locs3"
   ]
  },
  {
   "cell_type": "markdown",
   "id": "92ce1fcf-c124-4634-a525-44f58a6a5811",
   "metadata": {},
   "source": [
    "# Figures"
   ]
  },
  {
   "cell_type": "code",
   "execution_count": null,
   "id": "dd066325-94d1-4427-9693-7c65ce2cc890",
   "metadata": {},
   "outputs": [],
   "source": [
    "# Plot a comparison of the three different background analyses\n",
    "\n",
    "props = dict(boxstyle='round', facecolor='wheat', alpha=0.5)\n",
    "\n",
    "fig, axs = plt.subplots(1, 3, figsize=(6, 3), dpi=600, sharey=True, sharex=True)\n",
    "\n",
    "axs[0].bar(bin_mids_2, bin_counts_2 / norm_factor_2, np.diff(bin_mids_2)[0])\n",
    "x2 = np.linspace(bin_mids_2[0], bin_mids_2[-1], 100)\n",
    "y = sw.gauss(x2, *gauss_params_2)\n",
    "axs[0].plot(x2, y / norm_factor_2, color='red')\n",
    "text_str = \"Gaussian\\nMean: {:.2f}\\nStd: {:.2f}\".format(gauss_params_2[1], gauss_params_2[2])\n",
    "axs[0].text(0.4, 0.95, text_str, transform=axs[0].transAxes,\n",
    "            verticalalignment='top', bbox=props)\n",
    "\n",
    "axs[1].bar(bin_mids_3, bin_counts_3 / norm_factor_3, np.diff(bin_mids_3)[0])\n",
    "# x = np.linspace(bin_mids_3[0], bin_mids_3[-1], 100)\n",
    "y = sw.gauss(x2, *gauss_params_3)\n",
    "axs[1].plot(x2, y / norm_factor_3, color='red')\n",
    "text_str = \"Gaussian\\nMean: {:.2f}\\nStd: {:.2f}\".format(gauss_params_3[1], gauss_params_3[2])\n",
    "axs[1].text(0.4, 0.95, text_str, transform=axs[1].transAxes,\n",
    "            verticalalignment='top', bbox=props)\n",
    "\n",
    "axs[2].bar(bin_mids_1, bin_counts_1 / norm_factor_1, np.diff(bin_mids_1)[0])\n",
    "# x = np.linspace(bin_mids_1[0], bin_mids_1[-1], 100)\n",
    "y = sw.gauss(x2, *gauss_params_1)\n",
    "axs[2].plot(x2, y / norm_factor_1, color='red')\n",
    "text_str = \"Gaussian\\nMean: {:.2f}\\nStd: {:.2f}\".format(gauss_params_1[1], gauss_params_1[2])\n",
    "axs[2].text(0.4, 0.95, text_str, transform=axs[2].transAxes,\n",
    "            verticalalignment='top', bbox=props)\n",
    "\n",
    "labels = ['(a)', '(b)', '(c)']\n",
    "axs[0].set_ylabel(\"Normalised Counts\", weight='bold')\n",
    "for i, ax in enumerate(axs):\n",
    "    ax.set_xlabel(\"Current / pA\", weight='bold')\n",
    "    ax.annotate(labels[i], xy=(0, 0), xytext=(-5, 0.6), weight='bold')\n",
    "    ax.tick_params(width=1.5)\n",
    "    for axis in ['top', 'right', 'bottom', 'left']:\n",
    "        ax.spines[axis].set_linewidth(1.5)\n",
    "    \n",
    "    \n",
    "fig.tight_layout()\n",
    "# fig.savefig(\"Expt Background.png\")"
   ]
  },
  {
   "cell_type": "markdown",
   "id": "3d731323-9ff8-4e5d-b1ec-6d11247f4724",
   "metadata": {},
   "source": [
    "## Tidy events\n",
    "Fix overlapping events"
   ]
  },
  {
   "cell_type": "code",
   "execution_count": null,
   "id": "e6faf86a-471a-4700-ab13-2f20fbc0476b",
   "metadata": {},
   "outputs": [],
   "source": [
    "def tidy_events(evt_locs):\n",
    "    new_evt_locs = []\n",
    "    \n",
    "    clashes = 0\n",
    "    i = 0\n",
    "    while i < (len(evt_locs) - 1):\n",
    "        evt = evt_locs[i]\n",
    "        \n",
    "        fut_evt = evt_locs[i+1]\n",
    "        if evt[1] > fut_evt[0]:\n",
    "            # print('CLASH')\n",
    "            clashes += 1\n",
    "            new_evt = [evt[0], fut_evt[1]]\n",
    "            new_evt_locs.append(new_evt)\n",
    "            i += 2\n",
    "        else:\n",
    "            new_evt_locs.append(evt)\n",
    "            i += 1\n",
    "            \n",
    "    if clashes == 0:\n",
    "        return evt_locs\n",
    "    else:\n",
    "        return tidy_events(new_evt_locs)        "
   ]
  },
  {
   "cell_type": "code",
   "execution_count": null,
   "id": "e1450eae-a2d9-4759-a961-76384904e3ce",
   "metadata": {},
   "outputs": [],
   "source": [
    "evt_locs1_tidy = tidy_events(evt_locs1[0])\n",
    "evt_locs2_tidy = tidy_events(evt_locs2[0])\n",
    "evt_locs3_tidy = tidy_events(evt_locs3[0])"
   ]
  },
  {
   "cell_type": "markdown",
   "id": "1a3a66da-fc21-4a5b-bbff-a3d2e9f9d84b",
   "metadata": {},
   "source": [
    "## Analyse Events"
   ]
  },
  {
   "cell_type": "code",
   "execution_count": null,
   "id": "74170425-4baf-4a86-bfdc-57f6a5eb53d3",
   "metadata": {},
   "outputs": [],
   "source": [
    "# Calculate the height and duration of every detected event\n",
    "\n",
    "def calc_height_and_dur(evt_locs, trace):\n",
    "    durs = []\n",
    "    heights = []\n",
    "    \n",
    "    for start, end in evt_locs:\n",
    "        dur = (end - start) / 1000000 * 1000\n",
    "        height = np.max(trace[start:end])\n",
    "        durs.append(dur)\n",
    "        heights.append(height)\n",
    "    \n",
    "    return np.array(durs), np.array(heights)\n",
    "    \n",
    "durs1, heights1 = calc_height_and_dur(evt_locs1_tidy, data_scaled)\n",
    "durs2, heights2 = calc_height_and_dur(evt_locs2_tidy, data_scaled)\n",
    "durs3, heights3 = calc_height_and_dur(evt_locs3_tidy, data_scaled)"
   ]
  },
  {
   "cell_type": "code",
   "execution_count": null,
   "id": "caeb0e65-2c49-4b95-a2b9-68510ef59329",
   "metadata": {},
   "outputs": [],
   "source": [
    "# Combine data in DataFrame\n",
    "columns = ['window_size', 'duration', 'height']\n",
    "\n",
    "ws1 = np.array(['1000' for x in durs1])\n",
    "ws2 = np.array(['100' for x in durs2])\n",
    "ws3 = np.array(['500' for x in durs3])\n",
    "\n",
    "df1 = pd.DataFrame(dict(zip(columns, [ws1, durs1, heights1])))\n",
    "df2 = pd.DataFrame(dict(zip(columns, [ws2, durs2, heights2])))\n",
    "df3 = pd.DataFrame(dict(zip(columns, [ws3, durs3, heights3])))\n",
    "\n",
    "df = pd.concat((df2, df3, df1))\n",
    "df.describe()"
   ]
  },
  {
   "cell_type": "code",
   "execution_count": null,
   "id": "a52aad21-a4eb-4f2a-83c0-b5d62f8e9085",
   "metadata": {},
   "outputs": [],
   "source": [
    "# Plot scatter plot and distributions of event duration and event height.\n",
    "g = sns.JointGrid(height=5)\n",
    "sns.scatterplot(data=df, x='duration', y='height', hue='window_size', ax=g.ax_joint, alpha=0.5)\n",
    "sns.histplot(data=df, x='duration', hue='window_size', ax=g.ax_marg_x, bins=60)\n",
    "sns.histplot(data=df, y='height', hue='window_size', ax=g.ax_marg_y, bins=60)\n",
    "\n",
    "g.ax_joint.get_legend().set_title(\"Window Size\")\n",
    "g.ax_marg_x.get_legend().remove()\n",
    "g.ax_marg_y.get_legend().remove()\n",
    "g.ax_marg_x.set(ylim=(0, 50))\n",
    "g.ax_marg_y.set(xlim=(0, 50))\n",
    "\n",
    "g.ax_joint.set_xlabel('Event Duration / ms', weight='bold')\n",
    "g.ax_joint.set_ylabel('Event Height / pA', weight='bold')\n",
    "\n",
    "g.ax_joint.tick_params(width=1.5)\n",
    "for axis in ['top', 'right', 'bottom', 'left']:\n",
    "    g.ax_joint.spines[axis].set_linewidth(1.5)\n",
    "    \n",
    "g.figure.tight_layout()\n",
    "g.figure.set_dpi(600)\n",
    "\n",
    "g.figure.savefig('Transloc Evts.png', dpi=600)"
   ]
  },
  {
   "cell_type": "markdown",
   "id": "6b0d26f8-daf7-4606-bc6f-d999cc570779",
   "metadata": {},
   "source": [
    "## Example Events"
   ]
  },
  {
   "cell_type": "code",
   "execution_count": null,
   "id": "934090bc-7974-4a27-95de-1993d86e86fb",
   "metadata": {},
   "outputs": [],
   "source": [
    "pad = 5000\n",
    "x = np.linspace(0, len(data_scaled), len(data_scaled))\n",
    "plot_x = x / 1000000 * 1000\n",
    "\n",
    "fig, axs = plt.subplots(3, 1, figsize=(6, 4), dpi=600, sharey=True)\n",
    "start, end = evt_locs1[0][3] # Hand selected event\n",
    "axs[0].plot(plot_x[start-pad : end+pad], data_scaled[start-pad : end+pad])\n",
    "axs[0].plot(plot_x[start : end], data_scaled[start : end], color='red')\n",
    "\n",
    "start, end = evt_locs1[0][0] # Hand selected event\n",
    "axs[1].plot(plot_x[start-pad : end+pad], data_scaled[start-pad : end+pad])\n",
    "axs[1].plot(plot_x[start : end], data_scaled[start : end], color='red')\n",
    "\n",
    "start, end = evt_locs1[0][-1] # Hand selected event\n",
    "axs[2].plot(plot_x[start-pad : end+pad], data_scaled[start-pad : end+pad])\n",
    "axs[2].plot(plot_x[start : end], data_scaled[start : end], color='red')\n",
    "\n",
    "labels = ['(a)', '(b)', '(c)']\n",
    "for i, ax in enumerate(axs):\n",
    "    ax.set_ylabel(\"Current / pA\", weight='bold')\n",
    "    ax.tick_params(width=1.5)\n",
    "    for axis in ['top', 'right', 'bottom', 'left']:\n",
    "        ax.spines[axis].set_linewidth(1.5)\n",
    "    ax.annotate(labels[i], xy=(-0.17, 1), xycoords='axes fraction', weight='bold')\n",
    "axs[2].set_xlabel(\"Time / ms\", weight='bold')\n",
    "\n",
    "fig.tight_layout()\n",
    "\n",
    "# fig.savefig(\"Example RPS Evts.png\")"
   ]
  }
 ],
 "metadata": {
  "kernelspec": {
   "display_name": "Python 3 (ipykernel)",
   "language": "python",
   "name": "python3"
  },
  "language_info": {
   "codemirror_mode": {
    "name": "ipython",
    "version": 3
   },
   "file_extension": ".py",
   "mimetype": "text/x-python",
   "name": "python",
   "nbconvert_exporter": "python",
   "pygments_lexer": "ipython3",
   "version": "3.10.6"
  }
 },
 "nbformat": 4,
 "nbformat_minor": 5
}
