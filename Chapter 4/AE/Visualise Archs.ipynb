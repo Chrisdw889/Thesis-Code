{
 "cells": [
  {
   "cell_type": "code",
   "execution_count": null,
   "id": "76daf897-18ba-41b2-ad37-2e3d8cadc59f",
   "metadata": {},
   "outputs": [],
   "source": [
    "import tensorflow as tf\n",
    "import pydot\n",
    "\n",
    "import matplotlib.pyplot as plt\n",
    "import numpy as np\n",
    "\n",
    "import pickle\n",
    "from PIL import Image"
   ]
  },
  {
   "cell_type": "markdown",
   "id": "38f3471a-1402-438b-bcf3-5ee711be3d0b",
   "metadata": {},
   "source": [
    "## Plot Models\n",
    "Load in the pretrained network models before plotting their architectures."
   ]
  },
  {
   "cell_type": "code",
   "execution_count": null,
   "id": "2bc0f330-916f-4117-83e7-e5763a488a27",
   "metadata": {},
   "outputs": [],
   "source": [
    "inp_size = 20\n",
    "ae = tf.keras.models.load_model('AE_{}_3'.format(inp_size))\n",
    "ae.summary()"
   ]
  },
  {
   "cell_type": "code",
   "execution_count": null,
   "id": "7dc4f24f-cff5-4de4-a478-5c4b182efc46",
   "metadata": {
    "tags": []
   },
   "outputs": [],
   "source": [
    "tf.keras.utils.plot_model(ae, 'ae_{}_model.png'.format(inp_size), show_shapes=True, show_layer_names=False, show_layer_activations=True, dpi=600)"
   ]
  },
  {
   "cell_type": "markdown",
   "id": "e3fd7fdc-a999-46fd-af0a-714cf963ad1d",
   "metadata": {},
   "source": [
    "## Figures\n",
    "Load model architectures and training histories"
   ]
  },
  {
   "cell_type": "code",
   "execution_count": null,
   "id": "6ac45c9c-403a-41c8-b79c-00feb961d2c4",
   "metadata": {},
   "outputs": [],
   "source": [
    "with open('AE_{}_3 Outputs/AE_{}_3_hist.pkl'.format(inp_size, inp_size), 'rb') as f:\n",
    "    ae_hist = pickle.load(f)\n",
    "    f.close()\n",
    "\n",
    "all_loss = np.array([np.array(ae_hist['loss']), np.array(ae_hist['val_loss'])])\n",
    "min_max_loss = (all_loss.min() - 0.1, all_loss.max() + 0.1)"
   ]
  },
  {
   "cell_type": "code",
   "execution_count": null,
   "id": "147513b1-cdcc-41bd-a56e-fd38088d9896",
   "metadata": {},
   "outputs": [],
   "source": [
    "fig = plt.figure(figsize=(6, 4), dpi=600)\n",
    "spec = fig.add_gridspec(2, 2)\n",
    "ax1 = fig.add_subplot(spec[:, 0])\n",
    "ax2 = fig.add_subplot(spec[0, 1])\n",
    "ax3 = fig.add_subplot(spec[1, 1])\n",
    "\n",
    "ax1.imshow(Image.open(\"ae_{}_model.png\".format(inp_size)))\n",
    "ax1.set_axis_off()\n",
    "\n",
    "ax2.plot(ae_hist['val_loss'])\n",
    "ax2.set_ylabel(\"MSE Loss\", weight='bold')\n",
    "ax2.set(ylim=(min_max_loss[0], min_max_loss[1]))\n",
    "\n",
    "ax3.plot(ae_hist['loss'])\n",
    "ax3.set_ylabel(\"MSE Loss\", weight='bold')\n",
    "ax3.set(ylim=(min_max_loss[0], min_max_loss[1]))\n",
    "\n",
    "ax3.set_xlabel(\"Epochs\", weight='bold')\n",
    "\n",
    "ax1.annotate('(a)', xy=(0, 1.1), xycoords='axes fraction', weight='bold')\n",
    "ax2.annotate('(b)', xy=(0, 1.1), xycoords='axes fraction', weight='bold')\n",
    "ax3.annotate('(c)', xy=(0, 1.1), xycoords='axes fraction', weight='bold')\n",
    "\n",
    "ax2.tick_params(width=1.5)\n",
    "ax3.tick_params(width=1.5)\n",
    "for axis in ['top', 'right', 'bottom', 'left']:\n",
    "    ax2.spines[axis].set_linewidth(1.5)\n",
    "    ax3.spines[axis].set_linewidth(1.5)\n",
    "        \n",
    "\n",
    "fig.tight_layout()\n",
    "\n",
    "fig.savefig(\"AE_{} SI.png\".format(inp_size))"
   ]
  }
 ],
 "metadata": {
  "kernelspec": {
   "display_name": "Python 3 (ipykernel)",
   "language": "python",
   "name": "python3"
  },
  "language_info": {
   "codemirror_mode": {
    "name": "ipython",
    "version": 3
   },
   "file_extension": ".py",
   "mimetype": "text/x-python",
   "name": "python",
   "nbconvert_exporter": "python",
   "pygments_lexer": "ipython3",
   "version": "3.10.6"
  }
 },
 "nbformat": 4,
 "nbformat_minor": 5
}
