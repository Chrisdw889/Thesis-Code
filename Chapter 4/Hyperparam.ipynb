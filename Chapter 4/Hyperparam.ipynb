{
 "cells": [
  {
   "cell_type": "code",
   "execution_count": null,
   "id": "f7a638a9-5b75-4f03-8988-ad76e422f229",
   "metadata": {},
   "outputs": [],
   "source": [
    "import os, glob, pickle\n",
    "\n",
    "import numpy as np\n",
    "import pandas as pd\n",
    "\n",
    "from sklearn.metrics import auc\n",
    "\n",
    "import matplotlib.pyplot as plt\n",
    "import seaborn as sns"
   ]
  },
  {
   "cell_type": "markdown",
   "id": "1d6c0c61-b132-457d-aadf-20f21368b1d0",
   "metadata": {},
   "source": [
    "# Load Data and Generate AUCs\n",
    "Loads in results generated from ZeroCrossingResults.ipynb, ZE Results.ipynb, and StaticWindowResults.ipynb and creates a master DataFrame containing all the scores for each of the three techniques explored."
   ]
  },
  {
   "cell_type": "code",
   "execution_count": null,
   "id": "f7f99041-aa1b-4035-ba0a-c0027fe8572c",
   "metadata": {},
   "outputs": [],
   "source": [
    "# Master DataFrame of Results\n",
    "columns = ['method', 'window_size', 'step_size', 'SNR', 'trace_idx', 'AUC']\n",
    "all_auc_df = pd.DataFrame(columns=columns)\n",
    "all_auc_df.head()"
   ]
  },
  {
   "cell_type": "code",
   "execution_count": null,
   "id": "440f2c79-bf11-4d17-99d2-e7c0315a37b9",
   "metadata": {},
   "outputs": [],
   "source": [
    "methods = ['sw', 'zcr', 'ae']\n",
    "wss = [100, 500, 1000, 1500, 2000]\n",
    "sss = [0.1, 0.5, 1.0]\n",
    "\n",
    "# String template for locating result files\n",
    "data_path_template = '{} ws/{} ws {} ss/{}_results_df.pkl'\n",
    "data_path_template = os.path.join(os.getcwd(), data_path_template)\n",
    "data_path_template           "
   ]
  },
  {
   "cell_type": "code",
   "execution_count": null,
   "id": "ee847058-df91-47c4-b32c-d7ce021831ab",
   "metadata": {},
   "outputs": [],
   "source": [
    "def auc_calc(group):\n",
    "    group = group.sort_values(by='FPR')\n",
    "    \n",
    "    fprs = group.FPR.values\n",
    "    tprs = group.TPR.values\n",
    "    val = auc(fprs, tprs)\n",
    "    \n",
    "    return val"
   ]
  },
  {
   "cell_type": "code",
   "execution_count": null,
   "id": "c38c16d7-71bb-4122-bb73-8fc7e4bd5ba9",
   "metadata": {
    "tags": []
   },
   "outputs": [],
   "source": [
    "for i, ws in enumerate(wss):\n",
    "    for j, ss in enumerate(sss):\n",
    "        for method in methods:\n",
    "            #### Load in Results ####\n",
    "            filename = data_path_template.format(ws, ws, ss, method)\n",
    "            with open(filename, 'rb') as f:\n",
    "                results = pickle.load(f)\n",
    "                f.close()\n",
    "            \n",
    "            #### Calc AUC ####\n",
    "            auc_df = results.groupby(['SNR', 'trace_idx']).apply(auc_calc).rename('AUC').to_frame()\n",
    "            \n",
    "            entries = [method, ws, ss]\n",
    "            for l, col in enumerate(columns[:3]):\n",
    "                auc_df[col] = entries[l]\n",
    "            \n",
    "            auc_df = auc_df.reset_index()\n",
    "            all_auc_df = pd.concat((all_auc_df, auc_df))\n",
    "all_auc_df      "
   ]
  },
  {
   "cell_type": "markdown",
   "id": "6df0e2a2-8d78-4790-abee-4eec4ba291cf",
   "metadata": {},
   "source": [
    "# Plots\n",
    "Visualise the effects that chaning window size and step size has to each anomaly detection technique."
   ]
  },
  {
   "cell_type": "code",
   "execution_count": null,
   "id": "8c0e2690-eab3-4e1b-8874-e221b3ea1a76",
   "metadata": {},
   "outputs": [],
   "source": [
    "# Plot window size effect on AUC score\n",
    "plot_snrs = [0.1, 0.25, 0.5, 1.0]\n",
    "letters = ['(a)', '(b)', '(c)', '(d)']\n",
    "fig, axs = plt.subplots(1, len(plot_snrs), figsize=(6, 2.5), sharey=True, dpi=600)\n",
    "\n",
    "for i in range(len(plot_snrs)):\n",
    "    plot_data = all_auc_df.loc[((all_auc_df.SNR == plot_snrs[i]) & (all_auc_df.step_size == 0.1))]\n",
    "    sns.lineplot(data=plot_data, x='window_size', y='AUC', hue='method', ax=axs[i])\n",
    "    axs[i].set_xlabel(\"Window Size\", weight='bold')\n",
    "    axs[i].annotate(letters[i], xy=(100, 0.5), xytext=(100, 1.08), weight='bold')\n",
    "    axs[i].tick_params(width=1.5)\n",
    "    for axis in ['top', 'right', 'bottom', 'left']:\n",
    "        axs[i].spines[axis].set_linewidth(1.5)  \n",
    "    # axs[i].set(ylim=(0.5, 1.0))\n",
    "    axs[i].legend().remove()\n",
    "axs[0].set_ylabel('AUC', weight='bold')\n",
    "\n",
    "fig.tight_layout()\n",
    "fig.savefig(\"Window Size.png\")"
   ]
  },
  {
   "cell_type": "code",
   "execution_count": null,
   "id": "07cfa1c7-3791-4eee-af04-f2a83185d59b",
   "metadata": {},
   "outputs": [],
   "source": [
    "# Plot step size effect on AUC score\n",
    "plot_snrs = [0.1, 0.25, 0.5, 1.0]\n",
    "letters = ['(a)', '(b)', '(c)', '(d)']\n",
    "fig, axs = plt.subplots(1, len(plot_snrs), figsize=(6, 2.5), sharey=True, dpi=600)\n",
    "\n",
    "for i in range(len(plot_snrs)):\n",
    "    plot_data = all_auc_df.loc[((all_auc_df.SNR == plot_snrs[i]) & (all_auc_df.window_size == 500))]\n",
    "    sns.lineplot(data=plot_data, x='step_size', y='AUC', hue='method', ax=axs[i])\n",
    "    axs[i].set(ylim=(0.5, 1.0))\n",
    "    axs[i].set_xlabel(\"Step Size\", weight='bold')\n",
    "    axs[i].legend().remove()\n",
    "    axs[i].annotate(letters[i], xy=(0.5, 0.6), xytext=(0.1, 1.05), weight='bold')\n",
    "    axs[i].tick_params(width=1.5)\n",
    "    for axis in ['top', 'right', 'bottom', 'left']:\n",
    "        axs[i].spines[axis].set_linewidth(1.5)\n",
    "axs[0].set_ylabel('AUC', weight='bold')\n",
    "fig.tight_layout()\n",
    "\n",
    "fig.savefig(\"Step Size.png\")"
   ]
  },
  {
   "cell_type": "markdown",
   "id": "d888c069-bb77-4731-8269-62bcf37a9010",
   "metadata": {},
   "source": [
    "## Visulise both parameters in 3D"
   ]
  },
  {
   "cell_type": "code",
   "execution_count": null,
   "id": "691579ed-6242-4ac7-a9f8-30532c19750a",
   "metadata": {},
   "outputs": [],
   "source": [
    "\n",
    "plot_df = all_auc_df.groupby(['method', 'window_size', 'step_size', 'SNR']).agg('mean')\n",
    "plot_df.head()"
   ]
  },
  {
   "cell_type": "code",
   "execution_count": null,
   "id": "ea8d78ab-9bc4-45e3-807b-f8199d67827c",
   "metadata": {},
   "outputs": [],
   "source": [
    "SNRs = all_auc_df.SNR.unique()\n",
    "        \n",
    "fig, axs = plt.subplots(2, 2, figsize=(6, 4), dpi=600, subplot_kw={\"projection\": '3d'})\n",
    "\n",
    "for method in methods:\n",
    "    for i in range(axs.shape[0]):\n",
    "        for j in range(axs.shape[1]):\n",
    "            SNR = SNRs[i * 2 + j]\n",
    "\n",
    "            z = np.zeros(x.shape)\n",
    "            for k in range(x.shape[0]):\n",
    "                for l in range(x.shape[1]):\n",
    "                    z[k, l] = plot_df.loc[method, x[k, l], y[k, l], SNR]\n",
    "\n",
    "            axs[i, j].plot_surface(x, y, z, alpha=0.5)\n",
    "            axs[i, j].set_title('{} snr'.format(SNR))\n",
    "            \n",
    "            axs[i, j].set_xlim3d((0, 2000))\n",
    "            axs[i, j].set_ylim3d((0, 1.0))\n",
    "            axs[i, j].set_zlim3d((0.5, 1.0))\n",
    "            \n",
    "            if i == 0:\n",
    "                axs[i, j].set_xticklabels([])\n",
    "            if j == 0:\n",
    "                axs[i, j].set_yticklabels([])\n",
    "                axs[i, j].set_zticklabels([])\n",
    "                     "
   ]
  }
 ],
 "metadata": {
  "kernelspec": {
   "display_name": "Python 3 (ipykernel)",
   "language": "python",
   "name": "python3"
  },
  "language_info": {
   "codemirror_mode": {
    "name": "ipython",
    "version": 3
   },
   "file_extension": ".py",
   "mimetype": "text/x-python",
   "name": "python",
   "nbconvert_exporter": "python",
   "pygments_lexer": "ipython3",
   "version": "3.10.6"
  }
 },
 "nbformat": 4,
 "nbformat_minor": 5
}
