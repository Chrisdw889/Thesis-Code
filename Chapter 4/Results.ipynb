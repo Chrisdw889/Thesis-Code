{
 "cells": [
  {
   "cell_type": "code",
   "execution_count": null,
   "id": "8373346e-3fb7-40af-9631-38f0d82fb23c",
   "metadata": {},
   "outputs": [],
   "source": [
    "import os\n",
    "import pickle\n",
    "\n",
    "import numpy as np\n",
    "import pandas as pd\n",
    "\n",
    "import matplotlib.pyplot as plt\n",
    "import seaborn as sns"
   ]
  },
  {
   "cell_type": "markdown",
   "id": "44245404-d234-4c6a-8020-00ed14086ec5",
   "metadata": {},
   "source": [
    "# Load Data"
   ]
  },
  {
   "cell_type": "code",
   "execution_count": null,
   "id": "853603ce-a6bd-446d-9219-44c0824fe921",
   "metadata": {},
   "outputs": [],
   "source": [
    "directory = \"INSERT DIRECTORY\" # Directory containing zcr and ma results files\n",
    "ae_dir = \"INSERT DIRECTORY\" # Directory containing ae results file\n",
    "\n",
    "with open(os.path.join(ae_dir, 'INSERT FILENAME'), 'rb') as f:\n",
    "    ae_results_df = pickle.load(f)\n",
    "with open(os.path.join(directory, 'INSERT FILENAME'), 'rb') as f:\n",
    "    sw_results_df = pickle.load(f)\n",
    "with open(os.path.join(directory, 'INSERT FILENAME'), 'rb') as f:\n",
    "    zcr_results_df = pickle.load(f)"
   ]
  },
  {
   "cell_type": "markdown",
   "id": "41955780-3be3-4323-8a8c-33b0059756e2",
   "metadata": {},
   "source": [
    "# Preprocess Data"
   ]
  },
  {
   "cell_type": "code",
   "execution_count": null,
   "id": "3daf4bae-3da8-4788-80ba-826445a377b1",
   "metadata": {},
   "outputs": [],
   "source": [
    "ae_results_df_mean = ae_results_df.reset_index()\n",
    "ae_results_df_mean = ae_results_df_mean.groupby(['SNR', 'Thresh']).agg('mean')\n",
    "ae_results_df_mean.head()"
   ]
  },
  {
   "cell_type": "code",
   "execution_count": null,
   "id": "c0d95f77-dd51-4667-906a-d1594795d8b2",
   "metadata": {},
   "outputs": [],
   "source": [
    "sw_results_df_mean = sw_results_df.reset_index()\n",
    "sw_results_df_mean = sw_results_df_mean.groupby(['SNR', 'Thresh']).agg('mean')\n",
    "sw_results_df_mean.head()"
   ]
  },
  {
   "cell_type": "code",
   "execution_count": null,
   "id": "804469f6-5c88-4363-a719-d72e146a3cb0",
   "metadata": {},
   "outputs": [],
   "source": [
    "zcr_results_df_mean = zcr_results_df.reset_index()\n",
    "zcr_results_df_mean = zcr_results_df_mean.groupby(['SNR', 'Thresh']).agg('mean')\n",
    "zcr_results_df_mean.head()"
   ]
  },
  {
   "cell_type": "code",
   "execution_count": null,
   "id": "1b7e1095-0cff-4a62-a5c5-f22cb1f56488",
   "metadata": {},
   "outputs": [],
   "source": [
    "ae_results_df_std = ae_results_df.reset_index()\n",
    "ae_results_df_std = ae_results_df_std.groupby(['SNR', 'Thresh']).agg('std')\n",
    "ae_results_df_std.head()"
   ]
  },
  {
   "cell_type": "code",
   "execution_count": null,
   "id": "749456ca-45fa-494c-9750-918fe715f657",
   "metadata": {},
   "outputs": [],
   "source": [
    "sw_results_df_std = sw_results_df.reset_index()\n",
    "sw_results_df_std = sw_results_df_std.groupby(['SNR', 'Thresh']).agg('std')\n",
    "sw_results_df_std.head()"
   ]
  },
  {
   "cell_type": "code",
   "execution_count": null,
   "id": "1105b3da-01d9-4526-ba29-5aa2969fe13f",
   "metadata": {},
   "outputs": [],
   "source": [
    "zcr_results_df_std = zcr_results_df.reset_index()\n",
    "zcr_results_df_std = zcr_results_df_std.groupby(['SNR', 'Thresh']).agg('std')\n",
    "zcr_results_df_std.head()"
   ]
  },
  {
   "cell_type": "code",
   "execution_count": null,
   "id": "55701a28-ecf4-4a37-9513-4b1841ea0c72",
   "metadata": {},
   "outputs": [],
   "source": [
    "# Calculate AUC for each result\n",
    "from sklearn.metrics import auc\n",
    "\n",
    "def auc_calc(group):\n",
    "    group = group.sort_values(by='FPR')\n",
    "    \n",
    "    fprs = group.FPR.values\n",
    "    tprs = group.TPR.values\n",
    "    val = auc(fprs, tprs)\n",
    "    \n",
    "    return val\n",
    "    \n",
    "\n",
    "zcr_auc_df = zcr_results_df.groupby(['SNR', 'trace_idx']).apply(auc_calc).rename('AUC')\n",
    "zcr_auc_df = zcr_auc_df.to_frame()\n",
    "ae_auc_df = ae_results_df.groupby(['SNR', 'trace_idx']).apply(auc_calc).rename('AUC')\n",
    "ae_auc_df = ae_auc_df.to_frame()\n",
    "sw_auc_df = sw_results_df.groupby(['SNR', 'trace_idx']).apply(auc_calc).rename('AUC')\n",
    "sw_auc_df = sw_auc_df.to_frame()\n",
    "sw_auc_df"
   ]
  },
  {
   "cell_type": "markdown",
   "id": "40e67cde-edc0-43d9-96fd-784965c43125",
   "metadata": {},
   "source": [
    "# Plots"
   ]
  },
  {
   "cell_type": "code",
   "execution_count": null,
   "id": "bf391573-92fb-4b4d-bbad-a4b2e6f7255f",
   "metadata": {},
   "outputs": [],
   "source": [
    "# Plot a comparison of the AUC performances for each technique\n",
    "fig, axs = plt.subplots(1, 3, figsize=(6, 2.75), dpi=600, sharey=True)\n",
    "sns.barplot(data=zcr_auc_df.reset_index(), x='SNR', y='AUC', palette='tab10', ax=axs[0])\n",
    "sns.barplot(data=ae_auc_df.reset_index(), x='SNR', y='AUC', palette='tab10', ax=axs[1])\n",
    "sns.barplot(data=sw_auc_df.reset_index(), x='SNR', y='AUC', palette='tab10', ax=axs[2])\n",
    "\n",
    "axs[0].set_ylabel(\"AUC\", weight='bold')\n",
    "axs[1].set_ylabel(\"\")\n",
    "axs[2].set_ylabel(\"\")\n",
    "\n",
    "labels = ['(a)', '(b)', '(c)']\n",
    "\n",
    "for i, ax in enumerate(axs):\n",
    "    ax.set_xlabel(\"SNR\", weight='bold')\n",
    "    ax.tick_params(width=1.5)\n",
    "    for axis in ['top', 'right', 'bottom', 'left']:\n",
    "        ax.spines[axis].set_linewidth(1.5)\n",
    "    for label in ax.get_xticklabels():\n",
    "        label.set_rotation(90)\n",
    "    ax.annotate(labels[i], xy=(0.1, 0), xytext=(-0.3, 1.15), weight='bold')\n",
    "    \n",
    "# axs[0].set(title='zcr')\n",
    "# axs[1].set(title='ae')\n",
    "# axs[2].set(title='sw')\n",
    "\n",
    "fig.tight_layout()\n",
    "# fig.savefig('Results.png')"
   ]
  },
  {
   "cell_type": "code",
   "execution_count": null,
   "id": "8102e4a2-7147-41e8-8b1f-bb945ca2b747",
   "metadata": {},
   "outputs": [],
   "source": [
    "sw_auc_df.groupby('SNR').agg('mean')"
   ]
  }
 ],
 "metadata": {
  "kernelspec": {
   "display_name": "Python 3 (ipykernel)",
   "language": "python",
   "name": "python3"
  },
  "language_info": {
   "codemirror_mode": {
    "name": "ipython",
    "version": 3
   },
   "file_extension": ".py",
   "mimetype": "text/x-python",
   "name": "python",
   "nbconvert_exporter": "python",
   "pygments_lexer": "ipython3",
   "version": "3.10.6"
  }
 },
 "nbformat": 4,
 "nbformat_minor": 5
}
