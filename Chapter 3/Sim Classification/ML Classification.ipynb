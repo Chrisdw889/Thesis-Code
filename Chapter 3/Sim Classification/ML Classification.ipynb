{
 "cells": [
  {
   "cell_type": "code",
   "execution_count": null,
   "id": "4dc28cfa-cb56-4a5d-88af-ce577ef3c1a1",
   "metadata": {},
   "outputs": [],
   "source": [
    "import os, glob, pickle\n",
    "\n",
    "import numpy as np\n",
    "\n",
    "import tensorflow as tf\n",
    "\n",
    "from sklearn.model_selection import train_test_split\n",
    "\n",
    "from sklearn.naive_bayes import GaussianNB\n",
    "from sklearn.neighbors import KNeighborsClassifier\n",
    "from sklearn.ensemble import RandomForestClassifier\n",
    "from sklearn.svm import SVC\n",
    "\n",
    "from sklearn.metrics import matthews_corrcoef, confusion_matrix, ConfusionMatrixDisplay\n",
    "\n",
    "import matplotlib.pyplot as plt"
   ]
  },
  {
   "cell_type": "markdown",
   "id": "cde8748f-4a8e-4938-95f8-914aac3e2b1c",
   "metadata": {},
   "source": [
    "## Load Data"
   ]
  },
  {
   "cell_type": "code",
   "execution_count": null,
   "id": "4dbf9ed4-129c-4593-876f-1974d381873e",
   "metadata": {},
   "outputs": [],
   "source": [
    "directory = 'INSERT_DIRECTORY' # Load simulated event data created by \"ExtractEvents.ipynb\"\n",
    "files = glob.glob(os.path.join(directory, '*.pkl'))\n",
    "files"
   ]
  },
  {
   "cell_type": "code",
   "execution_count": null,
   "id": "ae17d7f1-83a7-4a59-a015-a87f1afc7399",
   "metadata": {},
   "outputs": [],
   "source": [
    "evt_data = []\n",
    "molecules = [x.split('_')[-2] for x in files] # Extract class names\n",
    "for file in files:\n",
    "    with open(file, 'rb') as f:\n",
    "        data = pickle.load(f)\n",
    "    evt_data.append(data)\n",
    "molecules"
   ]
  },
  {
   "cell_type": "markdown",
   "id": "bbc0320d-3bf7-4beb-846a-9109cc3d7110",
   "metadata": {},
   "source": [
    "## Preprocess Data\n",
    "Split the loaded data into a balanced training and testing dataset"
   ]
  },
  {
   "cell_type": "code",
   "execution_count": null,
   "id": "aa2b57b9-e885-4643-a4e6-71129a2d2ab1",
   "metadata": {},
   "outputs": [],
   "source": [
    "def split_data(data, split_ratio):\n",
    "    train_evt_data = []\n",
    "    test_evt_data = []\n",
    "    for molecule in data:\n",
    "        train_data, test_data = train_test_split(molecule, train_size=split_ratio)\n",
    "        train_evt_data.append(train_data)\n",
    "        test_evt_data.append(test_data)\n",
    "    return train_evt_data, test_evt_data\n",
    "\n",
    "split_ratio = 0.95\n",
    "training_evt_data, testing_evt_data = split_data(evt_data, split_ratio)\n",
    "len(testing_evt_data)"
   ]
  },
  {
   "cell_type": "code",
   "execution_count": null,
   "id": "bdd43e11-7ae3-4d27-8bdb-756cdef4cd22",
   "metadata": {},
   "outputs": [],
   "source": [
    "X_train = np.concatenate(training_evt_data)\n",
    "X_test = np.concatenate(testing_evt_data)\n",
    "print(X_train.shape)\n",
    "print(X_test.shape)"
   ]
  },
  {
   "cell_type": "code",
   "execution_count": null,
   "id": "54bf3cb0-5249-4dbd-8033-d16432451334",
   "metadata": {},
   "outputs": [],
   "source": [
    "# Create class labels\n",
    "all_labels = []\n",
    "for i in range(len(molecules)):\n",
    "    num_evts = len(evt_data[i])\n",
    "    labels = np.ones(num_evts) * i\n",
    "    all_labels.append(labels)\n",
    "\n",
    "all_train_labels, all_test_labels = split_data(all_labels, split_ratio)    \n",
    "\n",
    "# Join class labels\n",
    "Y_train = np.concatenate(all_train_labels)\n",
    "Y_test = np.concatenate(all_test_labels)\n",
    "print(Y_train.shape)\n",
    "print(Y_test.shape)"
   ]
  },
  {
   "cell_type": "markdown",
   "id": "13715ad6-4534-4aba-b4a3-a7bd2fb610be",
   "metadata": {},
   "source": [
    "## Classifiers"
   ]
  },
  {
   "cell_type": "markdown",
   "id": "d5228ab5-eee4-4893-bc9c-9e35c8e4df5a",
   "metadata": {},
   "source": [
    "###  Naive Bayesian Classifier"
   ]
  },
  {
   "cell_type": "code",
   "execution_count": null,
   "id": "bf3368b4-8ce4-40b2-8d93-a9530b82e050",
   "metadata": {},
   "outputs": [],
   "source": [
    "gnb = GaussianNB()\n",
    "gnb.fit(X_train, Y_train) # Train NBC\n",
    "pred = gnb.predict(X_test) # Generate predictions\n",
    "\n",
    "accuracy = (Y_test == pred).sum() / Y_test.shape[0] # Calcualte Accuracy\n",
    "mcc = matthews_corrcoef(pred, Y_test) # Calculate MCC\n",
    "\n",
    "print(\"Accuracy: {}\".format(accuracy))\n",
    "print(\"MCC: {}\".format(mcc))"
   ]
  },
  {
   "cell_type": "code",
   "execution_count": null,
   "id": "0f711777-f6cd-47ae-9d6f-a5266db37f97",
   "metadata": {},
   "outputs": [],
   "source": [
    "# Generate confusion matrix\n",
    "nbc_conf_mat = confusion_matrix(Y_test, pred, normalize='true')\n",
    "disp = ConfusionMatrixDisplay(confusion_matrix=nbc_conf_mat, display_labels=molecules)\n",
    "\n",
    "fig, ax = plt.subplots()\n",
    "disp.plot(ax=ax, values_format='.2f')"
   ]
  },
  {
   "cell_type": "markdown",
   "id": "e597c933-e2d3-405e-8bb2-dd7a3259c293",
   "metadata": {},
   "source": [
    "### k-Nearest Neighbour"
   ]
  },
  {
   "cell_type": "code",
   "execution_count": null,
   "id": "4f04ab5b-5fd1-423d-9bd8-27683189fb24",
   "metadata": {},
   "outputs": [],
   "source": [
    "X_train.shape[0] ** 0.5 # Theoretical best k-value"
   ]
  },
  {
   "cell_type": "code",
   "execution_count": null,
   "id": "e909e09d-22d3-4079-967e-c79d727de9fc",
   "metadata": {
    "tags": []
   },
   "outputs": [],
   "source": [
    "# Optimise for best k-value\n",
    "ks = np.array(list(range(1000))) + 1\n",
    "accuracies = []\n",
    "mccs = []\n",
    "best_mcc = -1\n",
    "for k in ks:\n",
    "    knn = KNeighborsClassifier(k)\n",
    "    knn.fit(X_train, Y_train) # Train KNN classifier\n",
    "    pred = knn.predict(X_test) # Generate Predictions\n",
    "\n",
    "    accuracy = (Y_test == pred).sum() / Y_test.shape[0] # Calculate Predictions\n",
    "    mcc = matthews_corrcoef(pred, Y_test) # Calculate MCC\n",
    "    conf_mat = confusion_matrix(Y_test, pred, normalize='true') # Calculate Confusion\n",
    "    accuracies.append(accuracy)\n",
    "    mccs.append(mcc)\n",
    "    \n",
    "    if mcc > best_mcc: # Update best found k-value\n",
    "        best_mcc = mcc\n",
    "        best_knn_agent = knn\n",
    "\n",
    "max_idx = np.argmax(mccs)\n",
    "\n",
    "# Calcualte best confusion matrix\n",
    "knn_conf_mat = confusion_matrix(Y_test, best_knn_agent.predict(X_test), normalize='true')\n",
    "print(ks[max_idx])\n",
    "print(\"MCC: {}\".format(mccs[max_idx]))\n",
    "print(\"Accuracy: {}\".format(accuracies[max_idx]))"
   ]
  },
  {
   "cell_type": "code",
   "execution_count": null,
   "id": "4828098e-d31b-49cf-8f25-af9dd226115b",
   "metadata": {},
   "outputs": [],
   "source": [
    "# Plot the Confusion Matrix\n",
    "disp = ConfusionMatrixDisplay(confusion_matrix=knn_conf_mat, display_labels=molecules)\n",
    "\n",
    "fig, ax = plt.subplots()\n",
    "disp.plot(ax=ax, values_format='.2f')"
   ]
  },
  {
   "cell_type": "code",
   "execution_count": null,
   "id": "6845219b-4ca9-4ee6-b907-a964b97f923b",
   "metadata": {},
   "outputs": [],
   "source": [
    "# Visualise accuracies vs k-value\n",
    "fig, ax = plt.subplots()\n",
    "ax.plot(ks, accuracies)\n",
    "ax.plot(ks, mccs)"
   ]
  },
  {
   "cell_type": "markdown",
   "id": "c47a2af6-7b1b-445e-9b6b-339049fa9347",
   "metadata": {},
   "source": [
    "### Random Forest"
   ]
  },
  {
   "cell_type": "code",
   "execution_count": null,
   "id": "4b2a6079-9243-4ebe-bc29-5894eb908b45",
   "metadata": {
    "tags": []
   },
   "outputs": [],
   "source": [
    "# Optimise for best forest size (number of trees)\n",
    "num_trees = np.array(list(range(200))) + 1\n",
    "accuracies = []\n",
    "mccs = []\n",
    "best_mcc = -1\n",
    "for num in num_trees:\n",
    "    print(num)\n",
    "    rfc = RandomForestClassifier(num) \n",
    "    rfc.fit(X_train, Y_train) # Train RFC\n",
    "    pred = rfc.predict(X_test) # Generate Predictions\n",
    "\n",
    "    accuracy = (Y_test == pred).sum() / Y_test.shape[0] # Calcualte Accuracy\n",
    "    mcc = matthews_corrcoef(pred, Y_test) # Calculate MCC\n",
    "    accuracies.append(accuracy)\n",
    "    mccs.append(mcc)\n",
    "    \n",
    "    if mcc > best_mcc: # Update best found tree number\n",
    "        best_mcc = mcc\n",
    "        best_rf_agent = rfc\n",
    "\n"
   ]
  },
  {
   "cell_type": "code",
   "execution_count": null,
   "id": "ef0332ce-e730-47ea-a39a-8a5c1385047d",
   "metadata": {},
   "outputs": [],
   "source": [
    "# Calcualte best Confusion matrix\n",
    "max_idx = np.argmax(mccs)\n",
    "\n",
    "rfc_conf_mat = confusion_matrix(Y_test, best_rf_agent.predict(X_test), normalize='true')\n",
    "\n",
    "print(num_trees[max_idx])\n",
    "print(\"MCC: {}\".format(mccs[max_idx]))\n",
    "print(\"Accuracy: {}\".format(accuracies[max_idx]))"
   ]
  },
  {
   "cell_type": "code",
   "execution_count": null,
   "id": "801df1cf-ea57-4905-b711-7eb6a977c615",
   "metadata": {},
   "outputs": [],
   "source": [
    "# Plot the Confusion Matrix\n",
    "disp = ConfusionMatrixDisplay(confusion_matrix=rfc_conf_mat, display_labels=molecules)\n",
    "\n",
    "fig, ax = plt.subplots()\n",
    "disp.plot(ax=ax, values_format='.2f')"
   ]
  },
  {
   "cell_type": "code",
   "execution_count": null,
   "id": "58cac801-767c-4b18-9c60-36a7490dadf1",
   "metadata": {},
   "outputs": [],
   "source": [
    "# Visualise Accuracies vs tree number\n",
    "fig, ax = plt.subplots()\n",
    "ax.plot(num_trees, accuracies)\n",
    "ax.plot(num_trees, mccs)"
   ]
  },
  {
   "cell_type": "markdown",
   "id": "24b1214e-646d-467c-aa94-28ceb55a5533",
   "metadata": {},
   "source": [
    "### Support-Vector Machine"
   ]
  },
  {
   "cell_type": "code",
   "execution_count": null,
   "id": "ff7d2a25-28be-4b79-8498-ce58393c4ed6",
   "metadata": {},
   "outputs": [],
   "source": [
    "sup = SVC()\n",
    "sup.fit(X_train, Y_train) # Train SVM classifier\n",
    "pred = sup.predict(X_test) # Generate Predictions\n",
    "\n",
    "accuracy = (Y_test == pred).sum() / Y_test.shape[0] # Calcualte Accuracy\n",
    "mcc = matthews_corrcoef(pred, Y_test) # Calculate MCC\n",
    "svm_conf_mat = confusion_matrix(Y_test, pred, normalize='true') # Calculate Confusion\n",
    "print(\"Accuracy: {}\".format(accuracy))\n",
    "print(\"MCC: {}\".format(mcc))"
   ]
  },
  {
   "cell_type": "code",
   "execution_count": null,
   "id": "3ba993d2-1b50-437a-a5cc-1bf351c970c9",
   "metadata": {},
   "outputs": [],
   "source": [
    "# Plot the Confusion Matrix\n",
    "disp = ConfusionMatrixDisplay(confusion_matrix=svm_conf_mat, display_labels=molecules)\n",
    "\n",
    "fig, ax = plt.subplots()\n",
    "disp.plot(ax=ax, values_format='.2f')"
   ]
  },
  {
   "cell_type": "markdown",
   "id": "7b6de39e-b7d9-449d-aee3-f6b8c74c1088",
   "metadata": {},
   "source": [
    "## FFNN"
   ]
  },
  {
   "cell_type": "code",
   "execution_count": null,
   "id": "7e213906-3907-42ae-9086-83595a880f2a",
   "metadata": {},
   "outputs": [],
   "source": [
    "# Load pretrained FFNN from 'FFN Classification.ipynb'\n",
    "ffn = tf.keras.models.load_model('FFN')\n",
    "ffn.summary()"
   ]
  },
  {
   "cell_type": "code",
   "execution_count": null,
   "id": "4dce3889-4ed0-4486-af5d-89f4a4bf5e5c",
   "metadata": {},
   "outputs": [],
   "source": [
    "pred = np.array([np.argmax(x) for x in ffn.predict(X_test)]) # Generate Predictions\n",
    "accuracy = (Y_test == pred).sum() / Y_test.shape[0] # Calculate Accuracy\n",
    "mcc = matthews_corrcoef(pred, Y_test) # Calculate MCC\n",
    "ffnn_conf_mat = confusion_matrix(Y_test, pred, normalize='true') # Calculate Confusion\n",
    "print(\"Accuracy: {}\".format(accuracy))\n",
    "print(\"MCC: {}\".format(mcc))"
   ]
  },
  {
   "cell_type": "code",
   "execution_count": null,
   "id": "6dc697f8-ef3a-4b9d-8b84-8e1969f4e85d",
   "metadata": {},
   "outputs": [],
   "source": [
    "# Plot the Confusion Matrix\n",
    "disp = ConfusionMatrixDisplay(confusion_matrix=ffnn_conf_mat, display_labels=molecules)\n",
    "\n",
    "fig, ax = plt.subplots()\n",
    "disp.plot(ax=ax, values_format='.2f')"
   ]
  },
  {
   "cell_type": "markdown",
   "id": "64f7d9a1-9372-4142-a721-726470817013",
   "metadata": {},
   "source": [
    "## CNN"
   ]
  },
  {
   "cell_type": "code",
   "execution_count": null,
   "id": "65eeaef4-3f5c-4afd-a925-b92f2dd55c14",
   "metadata": {},
   "outputs": [],
   "source": [
    "# Load pretrained CNN from 'CNN Classification.ipynb'\n",
    "cnn = tf.keras.models.load_model('CNN GAP 2')\n",
    "cnn.summary()"
   ]
  },
  {
   "cell_type": "code",
   "execution_count": null,
   "id": "82bde0a2-b06c-41a5-a590-e7b5d18b6144",
   "metadata": {},
   "outputs": [],
   "source": [
    "pred = np.array([np.argmax(x) for x in cnn.predict(X_test)]) # Generate Predictions\n",
    "accuracy = (Y_test == pred).sum() / Y_test.shape[0] # Calculate Accuracy\n",
    "mcc = matthews_corrcoef(pred, Y_test) # Calculate MCC\n",
    "cnn_conf_mat = confusion_matrix(Y_test, pred, normalize='true') # Calculate Confusion\n",
    "print(\"Accuracy: {}\".format(accuracy))\n",
    "print(\"MCC: {}\".format(mcc))"
   ]
  },
  {
   "cell_type": "code",
   "execution_count": null,
   "id": "fbe61fad-bb8b-4f06-b7ff-68c4d58bc903",
   "metadata": {},
   "outputs": [],
   "source": [
    "# Plot the Confusion Matrix\n",
    "disp = ConfusionMatrixDisplay(confusion_matrix=cnn_conf_mat, display_labels=molecules)\n",
    "\n",
    "fig, ax = plt.subplots()\n",
    "disp.plot(ax=ax, values_format='.2f')"
   ]
  },
  {
   "cell_type": "markdown",
   "id": "d06da260-5a22-45b7-85f3-7a1907eff356",
   "metadata": {},
   "source": [
    "## All Confusion Matrices\n",
    "Plot all of the above best confusion matrices in one figure"
   ]
  },
  {
   "cell_type": "code",
   "execution_count": null,
   "id": "165fd5e1-7bbb-43d8-a9a1-c6e908c24fee",
   "metadata": {},
   "outputs": [],
   "source": [
    "plt.rcParams.update({'font.size': 8})"
   ]
  },
  {
   "cell_type": "code",
   "execution_count": null,
   "id": "fc1d6fdf-2857-4862-9bf1-39f6aeb6a60b",
   "metadata": {},
   "outputs": [],
   "source": [
    "fig, axs = plt.subplots(2, 3, sharex=True, sharey=True, figsize=(6, 4), dpi=600)\n",
    "\n",
    "methods = [['NBC', 'KNN', 'RFC'], ['SVM', 'FFNN', 'CNN']]\n",
    "conf_mats = [[nbc_conf_mat, knn_conf_mat, rfc_conf_mat], [svm_conf_mat, ffnn_conf_mat, cnn_conf_mat]]\n",
    "\n",
    "for i, row in enumerate(axs):\n",
    "    for j, ax in enumerate(row):\n",
    "        #if i == 0:\n",
    "        #    ax.set(xlabel=\"\")\n",
    "        disp = ConfusionMatrixDisplay(confusion_matrix=conf_mats[i][j], display_labels=molecules)\n",
    "        disp.plot(ax=ax, values_format='.1f', colorbar=False)\n",
    "        ax.set(title=methods[i][j])\n",
    "\n",
    "# Implement Colorbar\n",
    "norm = plt.Normalize(0, 1)\n",
    "sm = plt.cm.ScalarMappable(cmap='viridis', norm=norm)\n",
    "sm.set_array([])\n",
    "    \n",
    "cbar_ax = axs[0, 2].inset_axes([1.20, -1.5, 0.05, 2.5], transform=axs[0, 2].transAxes)\n",
    "fig.colorbar(sm, ax=axs[0, 2], cax=cbar_ax)\n",
    "\n",
    "\n",
    "for i, ax in enumerate(axs[0, :]):\n",
    "    if i != 0:\n",
    "        ax.set_ylabel('')\n",
    "    ax.set_xlabel('')\n",
    "\n",
    "for i, ax in enumerate(axs[1, :]):\n",
    "    if i != 0:\n",
    "        ax.set_ylabel('')\n",
    "    ax.set_xticklabels(ax.get_xticklabels(), rotation=45, fontsize=10)\n",
    "    ax.set_xlabel(ax.get_xlabel(), fontsize=10, weight='bold')\n",
    "    \n",
    "for ax in axs[:, 0]:\n",
    "    ax.set_yticklabels(ax.get_yticklabels(), fontsize=10)\n",
    "    ax.set_ylabel(ax.get_ylabel(), fontsize=10, weight='bold')\n",
    "    \n",
    "for ax in axs.flatten():\n",
    "    ax.tick_params(width=1.5)\n",
    "    for axis in ['top', 'right', 'bottom', 'left']:\n",
    "        ax.spines[axis].set_linewidth(1.5)\n",
    "\n",
    "fig.subplots_adjust(bottom=0.2, hspace=0.3)\n",
    "        \n",
    "# fig.savefig('ClassResults.png')"
   ]
  }
 ],
 "metadata": {
  "kernelspec": {
   "display_name": "Python 3 (ipykernel)",
   "language": "python",
   "name": "python3"
  },
  "language_info": {
   "codemirror_mode": {
    "name": "ipython",
    "version": 3
   },
   "file_extension": ".py",
   "mimetype": "text/x-python",
   "name": "python",
   "nbconvert_exporter": "python",
   "pygments_lexer": "ipython3",
   "version": "3.10.6"
  }
 },
 "nbformat": 4,
 "nbformat_minor": 5
}
