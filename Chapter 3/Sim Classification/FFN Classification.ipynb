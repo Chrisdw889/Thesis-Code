{
 "cells": [
  {
   "cell_type": "code",
   "execution_count": null,
   "id": "13acff07-eaa2-41cf-81ec-ad03b38f9aab",
   "metadata": {},
   "outputs": [],
   "source": [
    "import os, glob, pickle\n",
    "\n",
    "import numpy as np\n",
    "import tensorflow as tf\n",
    "\n",
    "from tensorflow.keras import Model\n",
    "from tensorflow.keras.layers import Dense, Flatten, Dropout, Input\n",
    "from tensorflow.keras.optimizers import Adam\n",
    "\n",
    "from sklearn.model_selection import train_test_split\n",
    "\n",
    "from sklearn.metrics import matthews_corrcoef, confusion_matrix, ConfusionMatrixDisplay\n",
    "\n",
    "import matplotlib.pyplot as plt"
   ]
  },
  {
   "cell_type": "markdown",
   "id": "87a731d2-7544-4887-9189-b214bba32eec",
   "metadata": {},
   "source": [
    "## Load Data"
   ]
  },
  {
   "cell_type": "code",
   "execution_count": null,
   "id": "f5f0afa8-6eba-4d72-b1c8-ed689ac079b1",
   "metadata": {},
   "outputs": [],
   "source": [
    "directory = 'INSERT_DIRECTORY' # Load simulated event data created by \"ExtractEvents.ipynb\"\n",
    "files = glob.glob(os.path.join(directory, '*.pkl'))\n",
    "files"
   ]
  },
  {
   "cell_type": "code",
   "execution_count": null,
   "id": "7c9c0e5d-fed9-4e6f-8558-bc8ff2c431cd",
   "metadata": {},
   "outputs": [],
   "source": [
    "evt_data = []\n",
    "molecules = [x.split('_')[-2] for x in files] # Extract class names\n",
    "for file in files:\n",
    "    with open(file, 'rb') as f:\n",
    "        data = pickle.load(f)\n",
    "    evt_data.append(data)\n",
    "molecules"
   ]
  },
  {
   "cell_type": "markdown",
   "id": "d9d18f84-51f9-43a6-811b-b400d971cc82",
   "metadata": {},
   "source": [
    "## Preprocess Data\n",
    "Split the loaded data into a balanced training and testing dataset"
   ]
  },
  {
   "cell_type": "code",
   "execution_count": null,
   "id": "953e7ce3-b83c-4602-a200-77a8f8eb4c0c",
   "metadata": {},
   "outputs": [],
   "source": [
    "def split_data(data, split_ratio):\n",
    "    train_evt_data = []\n",
    "    test_evt_data = []\n",
    "    for molecule in data:\n",
    "        train_data, test_data = train_test_split(molecule, train_size=split_ratio)\n",
    "        train_evt_data.append(train_data)\n",
    "        test_evt_data.append(test_data)\n",
    "    return train_evt_data, test_evt_data\n",
    "\n",
    "split_ratio = 0.95\n",
    "training_evt_data, testing_evt_data = split_data(evt_data, split_ratio)\n",
    "len(testing_evt_data)"
   ]
  },
  {
   "cell_type": "code",
   "execution_count": null,
   "id": "cad5cd05-59d3-47b3-bb3f-650d764fdaf4",
   "metadata": {},
   "outputs": [],
   "source": [
    "X_train = np.concatenate(training_evt_data)\n",
    "X_test = np.concatenate(testing_evt_data)\n",
    "print(X_train.shape)\n",
    "print(X_test.shape)"
   ]
  },
  {
   "cell_type": "code",
   "execution_count": null,
   "id": "7f3cf356-2b5e-4932-87c4-e7d470000d63",
   "metadata": {},
   "outputs": [],
   "source": [
    "# Create class labels\n",
    "all_labels = []\n",
    "for i in range(len(molecules)):\n",
    "    num_evts = len(evt_data[i])\n",
    "    labels = np.ones(num_evts) * i\n",
    "    all_labels.append(labels)\n",
    "\n",
    "all_train_labels, all_test_labels = split_data(all_labels, split_ratio)    \n",
    "\n",
    "# Join labels to data\n",
    "Y_train = np.concatenate(all_train_labels)\n",
    "Y_test = np.concatenate(all_test_labels)\n",
    "print(Y_train.shape)\n",
    "print(Y_test.shape)"
   ]
  },
  {
   "cell_type": "markdown",
   "id": "d9fc72a0-f00d-471f-aa34-7c0a77ac7320",
   "metadata": {},
   "source": [
    "## Construct Network"
   ]
  },
  {
   "cell_type": "code",
   "execution_count": null,
   "id": "7b5a1db5-89da-41f5-8b07-08597cbc65b3",
   "metadata": {},
   "outputs": [],
   "source": [
    "inp = Input(X_train.shape[1:])\n",
    "x = Dense(64, activation='relu')(inp)\n",
    "x = Dense(64, activation='relu')(x)\n",
    "x = Dropout(0.2)(x)\n",
    "out = Dense(5, activation='softmax')(x)\n",
    "\n",
    "model = Model(inputs=inp, outputs=out)\n",
    "opt = Adam(lr=5e-5, decay=1e-6)\n",
    "\n",
    "model.compile(loss='sparse_categorical_crossentropy', optimizer=opt, metrics=['accuracy'])\n",
    "model.summary()"
   ]
  },
  {
   "cell_type": "markdown",
   "id": "31d348a2-e96a-49dc-89f4-83f4bbb1de78",
   "metadata": {},
   "source": [
    "## Train, Save, Load"
   ]
  },
  {
   "cell_type": "code",
   "execution_count": null,
   "id": "9bf7c58b-e910-46ac-80d6-946c27581c72",
   "metadata": {
    "tags": []
   },
   "outputs": [],
   "source": [
    "history = tf.keras.callbacks.History()\n",
    "model.fit(X_train, Y_train, epochs=150, validation_data=(X_test, Y_test), callbacks=[history]) # Train the FFNN\n",
    "model.save('FFN') # Saves the FFNN"
   ]
  },
  {
   "cell_type": "code",
   "execution_count": null,
   "id": "a47cc4cc-ced3-4d13-a72c-7cbed3524f1e",
   "metadata": {},
   "outputs": [],
   "source": [
    "# Save training history\n",
    "with open('FFN_training_history.pkl', 'wb') as f:\n",
    "    pickle.dump(history.history, f)"
   ]
  },
  {
   "cell_type": "code",
   "execution_count": null,
   "id": "b4f2d435-5a29-429e-9318-b4f24dbec0f5",
   "metadata": {},
   "outputs": [],
   "source": [
    "model = tf.keras.models.load_model('FFN') # Reloads the FFNN\n",
    "model.summary()"
   ]
  },
  {
   "cell_type": "code",
   "execution_count": null,
   "id": "354cba52-8633-43e6-80f5-9d8e6a364dd2",
   "metadata": {},
   "outputs": [],
   "source": [
    "with open('FFN_training_history.pkl', 'rb') as f: # Reloads the training history\n",
    "    history = pickle.load(f)"
   ]
  },
  {
   "cell_type": "markdown",
   "id": "f7bc3bfc-dd7a-4b0d-983c-af549dd1faf4",
   "metadata": {},
   "source": [
    "## Training Graphs"
   ]
  },
  {
   "cell_type": "code",
   "execution_count": null,
   "id": "8262e0ce-cc48-4110-bbd8-b2b1d22ba5d7",
   "metadata": {},
   "outputs": [],
   "source": [
    "plt.plot(history['val_accuracy']) #  Plot the validation accuracy vs epoch"
   ]
  },
  {
   "cell_type": "code",
   "execution_count": null,
   "id": "00340d2c-eb6c-43d9-95db-a65b296143c4",
   "metadata": {},
   "outputs": [],
   "source": [
    "plt.plot(history['accuracy']) # Plot the training accuracy vs epoch"
   ]
  },
  {
   "cell_type": "code",
   "execution_count": null,
   "id": "b5c7fbdc-cb9b-48b4-9b30-2db498ada1a2",
   "metadata": {},
   "outputs": [],
   "source": [
    "pred = np.array([np.argmax(x) for x in model.predict(X_test)]) # Generate test predictions\n",
    "accuracy = (Y_test == pred).sum() / Y_test.shape[0] # Calculate Accuracy\n",
    "mcc = matthews_corrcoef(pred, Y_test) # Calculate MCC\n",
    "ffnn_conf_mat = confusion_matrix(Y_test, pred, normalize='true') # Calculate Confusion\n",
    "print(\"Accuracy: {}\".format(accuracy))\n",
    "print(\"MCC: {}\".format(mcc))"
   ]
  },
  {
   "cell_type": "code",
   "execution_count": null,
   "id": "eb36d17f-35ef-4ee0-b25c-5c3f8d091a8e",
   "metadata": {},
   "outputs": [],
   "source": [
    "# Plot the Confusion Matrix\n",
    "disp = ConfusionMatrixDisplay(confusion_matrix=ffnn_conf_mat, display_labels=molecules)\n",
    "\n",
    "fig, ax = plt.subplots()\n",
    "disp.plot(ax=ax, values_format='.2f')"
   ]
  }
 ],
 "metadata": {
  "kernelspec": {
   "display_name": "Python 3 (ipykernel)",
   "language": "python",
   "name": "python3"
  },
  "language_info": {
   "codemirror_mode": {
    "name": "ipython",
    "version": 3
   },
   "file_extension": ".py",
   "mimetype": "text/x-python",
   "name": "python",
   "nbconvert_exporter": "python",
   "pygments_lexer": "ipython3",
   "version": "3.10.6"
  }
 },
 "nbformat": 4,
 "nbformat_minor": 5
}
