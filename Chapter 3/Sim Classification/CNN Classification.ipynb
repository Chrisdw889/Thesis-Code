{
 "cells": [
  {
   "cell_type": "code",
   "execution_count": null,
   "id": "7b3b16a6-a5c1-4e09-bee8-597fed797b75",
   "metadata": {},
   "outputs": [],
   "source": [
    "import os, glob, pickle\n",
    "\n",
    "import numpy as np\n",
    "import tensorflow as tf\n",
    "\n",
    "from tensorflow.keras import Model\n",
    "from tensorflow.keras.layers import Dense, Flatten, Dropout, Input, Conv1D, MaxPooling1D, GlobalAveragePooling1D\n",
    "from tensorflow.keras.optimizers import Adam\n",
    "\n",
    "from sklearn.model_selection import train_test_split\n",
    "\n",
    "from sklearn.metrics import matthews_corrcoef, confusion_matrix, ConfusionMatrixDisplay\n",
    "\n",
    "import matplotlib.pyplot as plt"
   ]
  },
  {
   "cell_type": "markdown",
   "id": "9e6f2b99-e67b-4dc6-9015-062a00986bbf",
   "metadata": {},
   "source": [
    "## Load Data"
   ]
  },
  {
   "cell_type": "code",
   "execution_count": null,
   "id": "bededd78-8b70-45a2-ad38-225942acbb92",
   "metadata": {},
   "outputs": [],
   "source": [
    "directory = 'INSERT_DIRECTORY' # Load simulated event data created by \"ExtractEvents.ipynb\"\n",
    "files = glob.glob(os.path.join(directory, '*.pkl'))\n",
    "files"
   ]
  },
  {
   "cell_type": "code",
   "execution_count": null,
   "id": "b7284c49-cebd-4837-b4ad-b93d3df8c709",
   "metadata": {},
   "outputs": [],
   "source": [
    "evt_data = []\n",
    "molecules = [x.split('_')[-2] for x in files] # Extract class names\n",
    "for file in files:\n",
    "    with open(file, 'rb') as f:\n",
    "        data = pickle.load(f)\n",
    "    evt_data.append(data)\n",
    "molecules"
   ]
  },
  {
   "cell_type": "markdown",
   "id": "39c1c61f-64a3-4687-820b-2b0b3697197b",
   "metadata": {},
   "source": [
    "## Preprocess Data\n",
    "Split the loaded data into a balanced training and testing dataset"
   ]
  },
  {
   "cell_type": "code",
   "execution_count": null,
   "id": "904be5a1-37c7-4f2f-8ebb-f8a6fd900560",
   "metadata": {},
   "outputs": [],
   "source": [
    "def split_data(data, split_ratio):\n",
    "    train_evt_data = []\n",
    "    test_evt_data = []\n",
    "    for molecule in data:\n",
    "        train_data, test_data = train_test_split(molecule, train_size=split_ratio)\n",
    "        train_evt_data.append(train_data)\n",
    "        test_evt_data.append(test_data)\n",
    "    return train_evt_data, test_evt_data\n",
    "\n",
    "split_ratio = 0.95\n",
    "training_evt_data, testing_evt_data = split_data(evt_data, split_ratio)"
   ]
  },
  {
   "cell_type": "code",
   "execution_count": null,
   "id": "755a8a98-33b9-46ef-9b75-d264bd45ec8a",
   "metadata": {},
   "outputs": [],
   "source": [
    "# Expands the dimensionality of the arrays for use in a CNN (CNNs require arrays with 3 axes)\n",
    "X_train = np.expand_dims(np.concatenate(training_evt_data), axis=2)\n",
    "X_test = np.expand_dims(np.concatenate(testing_evt_data), axis=2)\n",
    "print(X_train.shape)\n",
    "print(X_test.shape)"
   ]
  },
  {
   "cell_type": "code",
   "execution_count": null,
   "id": "7c119248-bfd5-4c91-8056-35dfbd625023",
   "metadata": {},
   "outputs": [],
   "source": [
    "# Create class labels\n",
    "all_labels = []\n",
    "for i in range(len(molecules)):\n",
    "    num_evts = len(evt_data[i])\n",
    "    labels = np.ones(num_evts) * i\n",
    "    all_labels.append(labels)\n",
    "\n",
    "all_train_labels, all_test_labels = split_data(all_labels, split_ratio) # Split labels into testing and training sets \n",
    "\n",
    "# Join labels to data\n",
    "Y_train = np.concatenate(all_train_labels)\n",
    "Y_test = np.concatenate(all_test_labels)\n",
    "print(Y_train.shape)\n",
    "print(Y_test.shape)"
   ]
  },
  {
   "cell_type": "markdown",
   "id": "8eed1f3c-feff-4f9d-92cd-f5e8fd81d7f3",
   "metadata": {},
   "source": [
    "## Construct Network"
   ]
  },
  {
   "cell_type": "code",
   "execution_count": null,
   "id": "5c8c076b-18ad-4c90-8fb3-019accef6695",
   "metadata": {},
   "outputs": [],
   "source": [
    "inp = Input(X_train.shape[1:])\n",
    "x = Conv1D(64, 3, activation='relu', padding='same')(inp)\n",
    "x = Conv1D(64, 3, activation='relu', padding='same')(x)\n",
    "x = Conv1D(64, 3, activation='relu', padding='same')(x)\n",
    "x = Conv1D(64, 3, activation='relu', padding='same', name='ConvOut')(x)\n",
    "\n",
    "x = GlobalAveragePooling1D()(x)\n",
    "\n",
    "out = Dense(5, activation='softmax')(x)\n",
    "\n",
    "model = Model(inputs=inp, outputs=out)\n",
    "opt = Adam(lr=5e-5, decay=1e-6)\n",
    "\n",
    "model.compile(loss='sparse_categorical_crossentropy', optimizer=opt, metrics=['accuracy'])\n",
    "model.summary()"
   ]
  },
  {
   "cell_type": "markdown",
   "id": "f7e5920b-e7cd-4237-8399-ea433bbb491d",
   "metadata": {},
   "source": [
    "## Train, Save, Load"
   ]
  },
  {
   "cell_type": "code",
   "execution_count": null,
   "id": "83e4b6d7-713c-46a2-b1a1-d44780a3105c",
   "metadata": {
    "tags": []
   },
   "outputs": [],
   "source": [
    "history = tf.keras.callbacks.History()\n",
    "model.fit(X_train, Y_train, epochs=150, validation_data=(X_test, Y_test), callbacks=[history]) # Train the CNN\n",
    "model.save('CNN GAP 2') # Saves the CNN"
   ]
  },
  {
   "cell_type": "code",
   "execution_count": null,
   "id": "0c2ef272-844b-4b94-89f7-c85ddd747f34",
   "metadata": {},
   "outputs": [],
   "source": [
    "# Save training history\n",
    "with open('CNN_GAP_2_training_history.pkl', 'wb') as f:\n",
    "    pickle.dump(history.history, f)"
   ]
  },
  {
   "cell_type": "code",
   "execution_count": null,
   "id": "88ba3011-6561-47d7-bfb3-6b7bc8889dec",
   "metadata": {},
   "outputs": [],
   "source": [
    "model = tf.keras.models.load_model('CNN GAP 2') # Reloads the CNN\n",
    "model.summary()"
   ]
  },
  {
   "cell_type": "code",
   "execution_count": null,
   "id": "9ace57be-379a-44e0-8d48-a249cc822cda",
   "metadata": {},
   "outputs": [],
   "source": [
    "with open('CNN_GAP_2_training_history.pkl', 'rb') as f: # Reloads the training history\n",
    "    history = pickle.load(f)"
   ]
  },
  {
   "cell_type": "markdown",
   "id": "5c4b4020-9617-40a8-8aef-fe2b46486656",
   "metadata": {},
   "source": [
    "## Training Graphs"
   ]
  },
  {
   "cell_type": "code",
   "execution_count": null,
   "id": "274b7650-2f76-428d-8883-04f5305dfc2f",
   "metadata": {},
   "outputs": [],
   "source": [
    "plt.plot(history['val_accuracy']) # Plot the validation accuracy vs epoch"
   ]
  },
  {
   "cell_type": "code",
   "execution_count": null,
   "id": "ada69409-26fb-4c72-bbc4-bd5ad3f2c43e",
   "metadata": {},
   "outputs": [],
   "source": [
    "plt.plot(history['accuracy']) # Plot the training accuracy vs epoch"
   ]
  },
  {
   "cell_type": "markdown",
   "id": "0c885e6b-dc2f-4bdd-88ed-2a873fdb6029",
   "metadata": {},
   "source": [
    "## Plot Confusion Matrix"
   ]
  },
  {
   "cell_type": "code",
   "execution_count": null,
   "id": "f7311ead-d74e-44f0-9db9-97a5bcbcf94f",
   "metadata": {},
   "outputs": [],
   "source": [
    "pred = np.array([np.argmax(x) for x in model.predict(X_test)]) # Generate test predictions\n",
    "accuracy = (Y_test == pred).sum() / Y_test.shape[0] # Calculate Accuracy\n",
    "mcc = matthews_corrcoef(pred, Y_test) # Calculate MCC\n",
    "cnn_conf_mat = confusion_matrix(Y_test, pred, normalize='true') # Calculate Confusion\n",
    "print(\"Accuracy: {}\".format(accuracy))\n",
    "print(\"MCC: {}\".format(mcc))"
   ]
  },
  {
   "cell_type": "code",
   "execution_count": null,
   "id": "1063a841-82e9-4ffc-b254-422d586cca9f",
   "metadata": {},
   "outputs": [],
   "source": [
    "# Plot the Confusion Matrix\n",
    "disp = ConfusionMatrixDisplay(confusion_matrix=cnn_conf_mat, display_labels=molecules)\n",
    "\n",
    "fig, ax = plt.subplots()\n",
    "disp.plot(ax=ax, values_format='.2f')"
   ]
  }
 ],
 "metadata": {
  "kernelspec": {
   "display_name": "Python 3 (ipykernel)",
   "language": "python",
   "name": "python3"
  },
  "language_info": {
   "codemirror_mode": {
    "name": "ipython",
    "version": 3
   },
   "file_extension": ".py",
   "mimetype": "text/x-python",
   "name": "python",
   "nbconvert_exporter": "python",
   "pygments_lexer": "ipython3",
   "version": "3.10.6"
  }
 },
 "nbformat": 4,
 "nbformat_minor": 5
}
