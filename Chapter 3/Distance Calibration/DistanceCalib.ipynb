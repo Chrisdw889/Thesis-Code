{
 "cells": [
  {
   "cell_type": "code",
   "execution_count": null,
   "id": "19dd2a0c-b62e-4f06-a705-00ff4e062781",
   "metadata": {},
   "outputs": [],
   "source": [
    "import os\n",
    "import glob\n",
    "\n",
    "import BreakJunctionUtilities as bju\n",
    "\n",
    "import numpy as np\n",
    "\n",
    "import matplotlib.pyplot as plt"
   ]
  },
  {
   "cell_type": "markdown",
   "id": "634b98bf-64f4-45b4-ae86-511628ce2860",
   "metadata": {},
   "source": [
    "## Load Data"
   ]
  },
  {
   "cell_type": "code",
   "execution_count": null,
   "id": "1ff87a13-8f8d-4418-a5c0-7b144720e305",
   "metadata": {},
   "outputs": [],
   "source": [
    "directory = 'INSERT_DIRECTORY' # Load in mat files created by the sIsGroupSave.m MATLAB script\n",
    "files = glob.glob(os.path.join(directory, '*.mat'))\n",
    "\n",
    "files_data = []\n",
    "for file in files:\n",
    "    files_data.append(bju.loadmat(file))\n",
    "    print(file)"
   ]
  },
  {
   "cell_type": "markdown",
   "id": "9d14471f-b8d3-4c15-a88f-1ee9fa74c47b",
   "metadata": {},
   "source": [
    "## Example Traces and Log Traces"
   ]
  },
  {
   "cell_type": "markdown",
   "id": "8ca24f81-7d0f-4c48-b9bf-51c5c369188f",
   "metadata": {},
   "source": [
    "Analyse a single repeat to demonstrate the process."
   ]
  },
  {
   "cell_type": "code",
   "execution_count": null,
   "id": "37392075-220a-4f09-8231-6bd0df2ac8e3",
   "metadata": {},
   "outputs": [],
   "source": [
    "# Extract the current and distance arrays\n",
    "test = files_data[1]\n",
    "distances = np.array(test['struct']['distance']).T\n",
    "currents = np.array(test['struct']['currents']).T"
   ]
  },
  {
   "cell_type": "code",
   "execution_count": null,
   "id": "a53536cb-6a67-467d-88d6-1491521aeedf",
   "metadata": {},
   "outputs": [],
   "source": [
    "# Filter out poor pulls\n",
    "passed_traces = []\n",
    "for i, trace in enumerate(currents):\n",
    "    passed_traces.append(trace.mean() > 0.1)\n",
    "passed_traces = np.array(passed_traces)"
   ]
  },
  {
   "cell_type": "code",
   "execution_count": null,
   "id": "6fa97a85-4b19-4c49-a1b7-de9bac5bbb28",
   "metadata": {},
   "outputs": [],
   "source": [
    "currents = currents[passed_traces == 1, :]\n",
    "distances = distances[passed_traces == 1, :]"
   ]
  },
  {
   "cell_type": "code",
   "execution_count": null,
   "id": "300b41e9-c4d1-4a89-aef0-cafad619afa7",
   "metadata": {},
   "outputs": [],
   "source": [
    "# Convert traces to a logarithmic scale\n",
    "currents[currents < 0] = 0\n",
    "log_curr = np.log((currents))\n",
    "log_curr[log_curr < -8] = -8\n",
    "ret = plt.hist2d(distances[:, :].flatten(), log_curr.flatten(), bins=121, cmax=3000)"
   ]
  },
  {
   "cell_type": "code",
   "execution_count": null,
   "id": "6212f21c-e609-44b6-ad6b-48add0e881d9",
   "metadata": {},
   "outputs": [],
   "source": [
    "fig, axs = plt.subplots(1, 2, figsize=(6, 4), dpi=600)\n",
    "\n",
    "for i in range(5):\n",
    "    if i == 0:\n",
    "        alpha = 1.0\n",
    "    else:\n",
    "        alpha = 0.3\n",
    "    \n",
    "    ans = axs[0].plot(distances.T[:, i], currents.T[:, i], alpha=alpha, c='#1f77b4')\n",
    "    ans = axs[1].plot(distances.T[:, i], log_curr.T[:, i], alpha=alpha, c='#1f77b4')\n",
    "\n",
    "x = distances.T[:200, 0]\n",
    "y = log_curr.T[:, 0]\n",
    "\n",
    "length = 500\n",
    "x = distances.T[:length, 0]\n",
    "y = log_curr.T[:length, 0]\n",
    "\n",
    "A = np.vstack([x, np.ones(length)]).T\n",
    "    \n",
    "m, c = np.linalg.lstsq(A, y, rcond=None)[0]\n",
    "\n",
    "fit_line, = axs[1].plot(x, m*x+c, color='red', dashes=[5, 2], linewidth=3)\n",
    "\n",
    "axs[0].set(xlim=(0, 1E-9))\n",
    "axs[0].set_xlabel('Distance / m', weight='bold')\n",
    "axs[0].set_ylabel('Current / nA', weight='bold')\n",
    "\n",
    "axs[1].set(xlim=(0, 1E-9))\n",
    "axs[1].set_xlabel('Distance / m', weight='bold')\n",
    "axs[1].set_ylabel('Log Current', weight='bold')\n",
    "\n",
    "axs[0].annotate('(a)', xy=(0, 0), xytext=(0.0E-9, 10.8), weight='bold')\n",
    "axs[1].annotate('(b)', xy=(0, 0), xytext=(0.0E-9, 3.4), weight='bold')\n",
    "\n",
    "axs[0].tick_params(width=1.5)\n",
    "for axis in ['top', 'right', 'bottom', 'left']:\n",
    "    axs[0].spines[axis].set_linewidth(1.5)\n",
    "axs[1].tick_params(width=1.5)\n",
    "for axis in ['top', 'right', 'bottom', 'left']:\n",
    "    axs[1].spines[axis].set_linewidth(1.5)\n",
    "\n",
    "fig.tight_layout()\n",
    "\n",
    "# fig.savefig(\"CurrLogCurr.png\")"
   ]
  },
  {
   "cell_type": "markdown",
   "id": "a1b822dd-8c36-448a-a9ce-a2461e4bed45",
   "metadata": {},
   "source": [
    "## Beta Histograms"
   ]
  },
  {
   "cell_type": "markdown",
   "id": "a4b68052-37a0-4802-8e4d-3ea6867c8d03",
   "metadata": {},
   "source": [
    "Filter through all repeats to remove poor traces"
   ]
  },
  {
   "cell_type": "code",
   "execution_count": null,
   "id": "7d548624-4e0b-4949-9283-052cec9a0f27",
   "metadata": {},
   "outputs": [],
   "source": [
    "passed_traces_all = []\n",
    "for data in files_data:\n",
    "    traces = np.array(data['struct']['currents']).T\n",
    "    passed_traces = []\n",
    "    for trace in traces:\n",
    "        passed_traces.append(trace.mean() > 0.1)\n",
    "    passed_traces_all.append(np.array(passed_traces))"
   ]
  },
  {
   "cell_type": "code",
   "execution_count": null,
   "id": "9c504b07-a10a-42be-854d-8db4bf164667",
   "metadata": {},
   "outputs": [],
   "source": [
    "betas = []\n",
    "for i, data in enumerate(files_data):\n",
    "    all_betas = np.array(data['struct']['betas'])\n",
    "    passed_betas = all_betas[passed_traces_all[i]]\n",
    "    betas.append(passed_betas)"
   ]
  },
  {
   "cell_type": "markdown",
   "id": "70f2816d-e0c4-4894-88a0-8aaf47c96d60",
   "metadata": {},
   "source": [
    "Plot each beta distribution"
   ]
  },
  {
   "cell_type": "code",
   "execution_count": null,
   "id": "c3016316-d724-4a22-8e94-92107d1eabf8",
   "metadata": {},
   "outputs": [],
   "source": [
    "betas1, betas2, betas3 = betas\n",
    "\n",
    "bin_edges = np.histogram_bin_edges(betas2, bins=100)\n",
    "bin_mids = bin_edges[1:] - ((bin_edges[1] - bin_edges[0]) / 2)\n",
    "\n",
    "counts = [np.histogram(x, bins=bin_edges)[0] for x in betas]\n",
    "counts1, counts2, counts3 = counts"
   ]
  },
  {
   "cell_type": "code",
   "execution_count": null,
   "id": "b060f59e-61f4-40f6-8c69-565549223b47",
   "metadata": {},
   "outputs": [],
   "source": [
    "fig, ax = plt.subplots(figsize=(6, 4), dpi=600)\n",
    "h1 = ax.bar(bin_mids, counts1, width = np.diff(bin_edges), alpha=0.6)\n",
    "h3 = ax.bar(bin_mids, counts3, width = np.diff(bin_edges), alpha=0.6)\n",
    "h2 = ax.bar(bin_mids, counts2, width = np.diff(bin_edges), alpha=0.6)\n",
    "\n",
    "ax.set_ylabel(\"Counts\", weight='bold')\n",
    "ax.set_xlabel(\"Beta / nm\\N{SUPERSCRIPT MINUS}\\N{SUPERSCRIPT ONE}\", weight='bold')\n",
    "\n",
    "ax.tick_params(width=1.5)\n",
    "for axis in ['top', 'right', 'bottom', 'left']:\n",
    "    ax.spines[axis].set_linewidth(1.5)\n",
    "    \n",
    "# fig.savefig(\"App Beta Hists.png\")"
   ]
  },
  {
   "cell_type": "markdown",
   "id": "5e11c4f1-217a-43ce-a0cd-db7115877408",
   "metadata": {},
   "source": [
    "### ANOVA Test"
   ]
  },
  {
   "cell_type": "markdown",
   "id": "60fb117b-161d-434a-bcc1-3c9bdaacf429",
   "metadata": {},
   "source": [
    "Test the null hypothesis before merging repeats"
   ]
  },
  {
   "cell_type": "code",
   "execution_count": null,
   "id": "a95bde8d-9456-46ff-89e9-acc612813908",
   "metadata": {},
   "outputs": [],
   "source": [
    "from scipy.stats import f_oneway\n",
    "\n",
    "F, p = f_oneway(betas1, betas2, betas3)\n",
    "p"
   ]
  },
  {
   "cell_type": "markdown",
   "id": "ceeefc55-33e1-401c-90f5-920e7b2aeb63",
   "metadata": {},
   "source": [
    "### Pool Datasets"
   ]
  },
  {
   "cell_type": "markdown",
   "id": "d8538cab-4966-4c51-b6e1-72ab097173b7",
   "metadata": {},
   "source": [
    "Pool the three repeats before applying a gaussian fit"
   ]
  },
  {
   "cell_type": "code",
   "execution_count": null,
   "id": "dc5c7bbf-0fb8-412c-9d75-b2b9fc22a883",
   "metadata": {},
   "outputs": [],
   "source": [
    "all_betas = np.concatenate((betas1, betas2, betas3))"
   ]
  },
  {
   "cell_type": "code",
   "execution_count": null,
   "id": "446e4cd9-eb3d-41fc-a465-f45b08263fc2",
   "metadata": {},
   "outputs": [],
   "source": [
    "bin_edges = np.histogram_bin_edges(all_betas, bins=100)\n",
    "bin_mids = bin_edges[1:] - ((bin_edges[1] - bin_edges[0]) / 2)\n",
    "counts = np.histogram(all_betas, bins=bin_edges)[0]"
   ]
  },
  {
   "cell_type": "code",
   "execution_count": null,
   "id": "f451abb9-fc97-4d43-bef7-2284b0ffcc50",
   "metadata": {},
   "outputs": [],
   "source": [
    "from scipy.optimize import curve_fit\n",
    "\n",
    "def gauss(x, *p):\n",
    "    A, mu, sig = p\n",
    "    return A * np.exp(-(x - mu)**2 / (2*sig**2))\n",
    "\n",
    "coeff, var_mat = curve_fit(gauss, bin_mids, counts, p0=(1, 0, 1))\n",
    "fit_vals = gauss(bin_mids, *coeff)"
   ]
  },
  {
   "cell_type": "code",
   "execution_count": null,
   "id": "59f10529-9fdc-4cfc-b8a0-32e8ce319ca0",
   "metadata": {},
   "outputs": [],
   "source": [
    "fig, ax = plt.subplots(figsize=(6, 4), dpi=600)\n",
    "res = ax.bar(bin_mids, counts, width=np.diff(bin_edges))\n",
    "ax.plot(bin_mids, fit_vals, color='red', dashes=[5, 2], linewidth=3)\n",
    "\n",
    "ax.set_xlabel('Beta / nm\\N{SUPERSCRIPT MINUS}\\N{SUPERSCRIPT ONE}', weight='bold')\n",
    "ax.set_ylabel('Counts', weight='bold')\n",
    "\n",
    "ax.tick_params(width=1.5)\n",
    "for axis in ['top', 'right', 'bottom', 'left']:\n",
    "    ax.spines[axis].set_linewidth(1.5)\n",
    "\n",
    "print(\"Beta = {:.3f} \\u00B1 {:.3f} / nm\\N{SUPERSCRIPT MINUS}\\N{SUPERSCRIPT ONE}\".format(coeff[1], coeff[2]))\n",
    "\n",
    "# fig.savefig('Betas.png')"
   ]
  },
  {
   "cell_type": "code",
   "execution_count": null,
   "id": "5a89a09c-ebd8-4e9a-bd12-e917c5f4da28",
   "metadata": {},
   "outputs": [],
   "source": [
    "## Kolmogorov-Smirnov test\n",
    "from scipy.stats import kstest\n",
    "\n",
    "res = kstest(counts, fit_vals)\n",
    "res.pvalue # goodness of fit"
   ]
  },
  {
   "cell_type": "code",
   "execution_count": null,
   "id": "a123057b-ed8c-4e23-bd32-71178f570c1c",
   "metadata": {},
   "outputs": [],
   "source": [
    "# Plot a calibration curve\n",
    "x = np.linspace(0, 2E9, 1000)\n",
    "y = (np.log(3E-9) - np.log(77.4809E-6 * 0.1)) / (-x)\n",
    "\n",
    "plt.plot(x, y)"
   ]
  }
 ],
 "metadata": {
  "kernelspec": {
   "display_name": "Python 3 (ipykernel)",
   "language": "python",
   "name": "python3"
  },
  "language_info": {
   "codemirror_mode": {
    "name": "ipython",
    "version": 3
   },
   "file_extension": ".py",
   "mimetype": "text/x-python",
   "name": "python",
   "nbconvert_exporter": "python",
   "pygments_lexer": "ipython3",
   "version": "3.10.6"
  }
 },
 "nbformat": 4,
 "nbformat_minor": 5
}
