{
 "cells": [
  {
   "cell_type": "code",
   "execution_count": null,
   "id": "a823fc39-88be-4db1-b4b3-e386d994bc22",
   "metadata": {},
   "outputs": [],
   "source": [
    "import os\n",
    "import glob\n",
    "\n",
    "import numpy as np\n",
    "import pandas as pd\n",
    "\n",
    "import matplotlib.pyplot as plt\n",
    "import seaborn as sns"
   ]
  },
  {
   "cell_type": "markdown",
   "id": "0fd5ba21-89bd-48ef-bc33-0a38aa9bfbd8",
   "metadata": {},
   "source": [
    "## Load Data"
   ]
  },
  {
   "cell_type": "markdown",
   "id": "103c9685-b80f-4f13-818c-816549d7932e",
   "metadata": {},
   "source": [
    "Data was organised into folders such that the parameter being optimised in each dataset is the name of the parent folder"
   ]
  },
  {
   "cell_type": "code",
   "execution_count": null,
   "id": "af055a77-dd76-4ee8-b3b6-12b55574c4a8",
   "metadata": {},
   "outputs": [],
   "source": [
    "folders = glob.glob('*ECSTM*') # Set folder to search current directory\n",
    "\n",
    "# Choose optimising parameter\n",
    "# parameter = 'bias'\n",
    "# parameter = 'setpoint'\n",
    "\n",
    "# List all valid paths\n",
    "paths = [os.path.join(os.getcwd(), x, parameter) for x in folders]\n",
    "paths"
   ]
  },
  {
   "cell_type": "code",
   "execution_count": null,
   "id": "652796b4-327c-47f0-8fcc-acede573081d",
   "metadata": {},
   "outputs": [],
   "source": [
    "def find_start_line(lines):\n",
    "    '''\n",
    "    Returns the line index following the ASCII heading.\n",
    "    '''\n",
    "    for i, line in enumerate(lines):\n",
    "        if 'ASCII' in line:\n",
    "            return i + 1\n",
    "    return -1\n",
    "\n",
    "def format_data(data):\n",
    "    '''\n",
    "    Converts read raw lines of text data into a numpy array.\n",
    "    '''\n",
    "    Converts read raw lines of text data into a numpy array.\n",
    "    currents = []\n",
    "    for line in data:\n",
    "        line = line.split('\\n')[0]\n",
    "        line = line.split('\\t')\n",
    "        current = float(line[-1])\n",
    "        currents.append(current)\n",
    "    return np.array(currents)\n",
    "\n",
    "\n",
    "def load_data_from_lines(lines):\n",
    "    '''\n",
    "    importdata helper function.\n",
    "    '''\n",
    "    data_start_line = find_start_line(lines) # Finds the line where data starts including column headers\n",
    "    header = lines[data_start_line] # Extracts the column headers\n",
    "    data = lines[data_start_line+1:] # Raw data lines\n",
    "    data = format_data(data) # Formats the raw data lines\n",
    "    return data\n",
    "\n",
    "def importdata(file):\n",
    "    '''\n",
    "    Loads data from a PicoScan I(t) txt file. Returns both the data and text header.\n",
    "    '''\n",
    "    f = open(file, 'r')\n",
    "    lines = f.readlines()\n",
    "    f.close()\n",
    "    bias = float(file.split('/')[-1].split('.txt')[0])\n",
    "    data = load_data_from_lines(lines)\n",
    "    return bias, data"
   ]
  },
  {
   "cell_type": "code",
   "execution_count": null,
   "id": "5acebee8-0f47-4649-a6e3-30cfd4839a2a",
   "metadata": {
    "tags": []
   },
   "outputs": [],
   "source": [
    "def analyse_path(path):\n",
    "    '''\n",
    "    Imports I(t) data from path. Imported data is then formated into a DataFrame.\n",
    "    '''\n",
    "    files = glob.glob(os.path.join(path, '*.txt'))\n",
    "    \n",
    "    vals = [[], []]\n",
    "    data_dict = dict(zip(data_cols[1:], vals))\n",
    "    \n",
    "    for j, file in enumerate(files):\n",
    "        print(file)\n",
    "        val, data = importdata(file)\n",
    "        data_dict[parameter].append(val)\n",
    "        data_dict['data'].append(data)\n",
    "    df = pd.DataFrame(data_dict)\n",
    "    return df\n",
    "\n",
    "# Construct and populate DataFrame to contain all experiment's data\n",
    "data_cols = ['run', parameter, 'data']\n",
    "data_df = pd.DataFrame(columns=data_cols)\n",
    "for i, path in enumerate(paths):\n",
    "    print(path)\n",
    "    df = analyse_path(path)\n",
    "    df['run'] = i\n",
    "    data_df = pd.concat((data_df, df))\n",
    "\n",
    "data_df"
   ]
  },
  {
   "cell_type": "markdown",
   "id": "0c0bd776-d1b0-4547-81f8-acd635216211",
   "metadata": {},
   "source": [
    "## Calculate Trace Noise"
   ]
  },
  {
   "cell_type": "code",
   "execution_count": null,
   "id": "fa2cc247-b7e1-493e-9c05-97eee45fc5d1",
   "metadata": {},
   "outputs": [],
   "source": [
    "# Calculates a new DataFrame containing the noise of each run\n",
    "cols = ['run', parameter, 'std']\n",
    "vals = [[], [], []]\n",
    "std_dict = dict(zip(cols, vals))\n",
    "\n",
    "for idx, row in data_df.iterrows():\n",
    "    run = row.run\n",
    "    par = row[parameter]\n",
    "    std = row.data.std()\n",
    "    \n",
    "    std_dict['run'].append(run)\n",
    "    std_dict[parameter].append(par)\n",
    "    std_dict['std'].append(std)\n",
    "    \n",
    "RMS_df = pd.DataFrame(std_dict)\n",
    "RMS_df"
   ]
  },
  {
   "cell_type": "markdown",
   "id": "e30d78e7-23e3-420b-b22b-786976e242ae",
   "metadata": {},
   "source": [
    "## Visualise Noise Results"
   ]
  },
  {
   "cell_type": "code",
   "execution_count": null,
   "id": "4db79ef8-03c8-4ece-9174-b464c03968d3",
   "metadata": {},
   "outputs": [],
   "source": [
    "# Plot noise vs parameter value for each experiment\n",
    "fig, ax = plt.subplots(figsize=(6, 4), dpi=600)\n",
    "\n",
    "sns.lineplot(data=RMS_df, x=parameter, y='std', hue='run', ax=ax)\n",
    "\n",
    "ax.set_ylabel('Standard Deviation / nA', weight='bold')\n",
    "ax.set_xlabel(parameter.title() + ' / V', weight='bold')\n",
    "ax.get_legend().remove()\n",
    "ax.tick_params(width=1.5)\n",
    "for axis in ['top', 'right', 'bottom', 'left']:\n",
    "    ax.spines[axis].set_linewidth(1.5)\n",
    "\n",
    "fig.savefig(\"BiasNoise.png\")"
   ]
  },
  {
   "cell_type": "code",
   "execution_count": null,
   "id": "76004e57-3f01-43c7-b6ab-47a3cbb40c30",
   "metadata": {},
   "outputs": [],
   "source": [
    "# Display the average noise for each parameter value\n",
    "RMS_df.groupby([parameter]).agg('mean')"
   ]
  },
  {
   "cell_type": "code",
   "execution_count": null,
   "id": "20ab01ea-8cce-4038-8072-4635e4cc297e",
   "metadata": {},
   "outputs": [],
   "source": [
    "# Display the standard deviation of noise RMS for each parameter value\n",
    "RMS_df.groupby([parameter]).agg('std')"
   ]
  }
 ],
 "metadata": {
  "kernelspec": {
   "display_name": "Python 3 (ipykernel)",
   "language": "python",
   "name": "python3"
  },
  "language_info": {
   "codemirror_mode": {
    "name": "ipython",
    "version": 3
   },
   "file_extension": ".py",
   "mimetype": "text/x-python",
   "name": "python",
   "nbconvert_exporter": "python",
   "pygments_lexer": "ipython3",
   "version": "3.10.6"
  }
 },
 "nbformat": 4,
 "nbformat_minor": 5
}
