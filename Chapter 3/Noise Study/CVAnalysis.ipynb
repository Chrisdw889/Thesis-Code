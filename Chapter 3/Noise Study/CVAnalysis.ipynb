{
 "cells": [
  {
   "cell_type": "code",
   "execution_count": null,
   "id": "428ad59c-5874-40cc-80ec-b282f21b8b19",
   "metadata": {},
   "outputs": [],
   "source": [
    "import numpy as np\n",
    "\n",
    "import matplotlib.pyplot as plt"
   ]
  },
  {
   "cell_type": "markdown",
   "id": "162cf567-607f-4779-bb78-3705b23721c6",
   "metadata": {},
   "source": [
    "## Import CV Data"
   ]
  },
  {
   "cell_type": "code",
   "execution_count": null,
   "id": "b90f7dfe-579c-47b9-8142-00c405d9e6a9",
   "metadata": {},
   "outputs": [],
   "source": [
    "cv_path = 'INSERT_FULL_PATH' # Load a CV txt file generated from the software PicoScan"
   ]
  },
  {
   "cell_type": "code",
   "execution_count": null,
   "id": "97eeb0b0-9474-4372-b59b-20bb70401687",
   "metadata": {},
   "outputs": [],
   "source": [
    "def find_start_line(lines):\n",
    "    '''\n",
    "    Returns the line index following the ASCII heading.\n",
    "    '''\n",
    "    for i, line in enumerate(lines):\n",
    "        if 'ASCII' in line:\n",
    "            return i + 1\n",
    "    return -1\n",
    "\n",
    "def format_data(data):\n",
    "    '''\n",
    "    Converts read raw lines of text data into a numpy array.\n",
    "    '''\n",
    "    cv_data = []\n",
    "    for line in data:\n",
    "        line = line.split('\\n')[0]\n",
    "        line = line.split('\\t')\n",
    "        cv_data.append(line)\n",
    "    return np.array(cv_data).astype(float)\n",
    "\n",
    "\n",
    "def load_data_from_lines(lines):\n",
    "    '''\n",
    "    importdata helper function.\n",
    "    '''\n",
    "    data_start_line = find_start_line(lines) # Finds the line where the data starts including column headers\n",
    "    header = lines[data_start_line].split('\\t') # Extracts the column headers\n",
    "    data = lines[data_start_line+1:] # Raw data lines\n",
    "    data = format_data(data) # Formats the raw data lines\n",
    "    return header, data\n",
    "\n",
    "def importdata(file):\n",
    "    '''\n",
    "    Loads data from a PicoScan CV txt file. Returns both the data and text header.\n",
    "    '''\n",
    "    f = open(file, 'r')\n",
    "    lines = f.readlines()\n",
    "    f.close()\n",
    "    header, data = load_data_from_lines(lines)\n",
    "    return header, data"
   ]
  },
  {
   "cell_type": "code",
   "execution_count": null,
   "id": "fae1c065-ab4c-497f-8acd-cbc086ebdf06",
   "metadata": {},
   "outputs": [],
   "source": [
    "cv_headers, cv_data = importdata(cv_path)"
   ]
  },
  {
   "cell_type": "markdown",
   "id": "05d46746-b191-4498-a976-86b12d475db5",
   "metadata": {},
   "source": [
    "## Plot CV\n"
   ]
  },
  {
   "cell_type": "markdown",
   "id": "34091d0e-d1b3-4a63-80d9-17cff7ae3824",
   "metadata": {},
   "source": [
    "Plot IEC vs VEC (Substrate CV)"
   ]
  },
  {
   "cell_type": "code",
   "execution_count": null,
   "id": "663a77c9-4b4e-4224-9aaf-cc4b00686077",
   "metadata": {},
   "outputs": [],
   "source": [
    "plt.plot(cv_data[:, 4], cv_data[:, 2])"
   ]
  },
  {
   "cell_type": "markdown",
   "id": "3beefdef-172b-42d8-90b9-cf0a51869ebc",
   "metadata": {},
   "source": [
    "Plot ITip vs VTip (Tip CV)"
   ]
  },
  {
   "cell_type": "code",
   "execution_count": null,
   "id": "45fd0b58-d8ee-481f-8023-b41e2cefed5d",
   "metadata": {},
   "outputs": [],
   "source": [
    "plt.plot(cv_data[:, 5], cv_data[:, 3])"
   ]
  },
  {
   "cell_type": "markdown",
   "id": "060ca145-e38e-407e-a4ef-573ede25fdfe",
   "metadata": {},
   "source": [
    "Plot both CVs on the same figure"
   ]
  },
  {
   "cell_type": "code",
   "execution_count": null,
   "id": "7cb1c68c-45ca-41d4-924b-e46e16a2a4a6",
   "metadata": {},
   "outputs": [],
   "source": [
    "fig, axs = plt.subplots(1, 2, figsize=(6, 3), dpi=600)\n",
    "axs[0].plot(cv_data[:, 5], cv_data[:, 3])\n",
    "axs[1].plot(cv_data[:, 4], cv_data[:, 2])\n",
    "\n",
    "axs[0].set_xlabel('E / V', weight='bold')\n",
    "axs[0].set_ylabel('I / nA', weight='bold')\n",
    "axs[1].set_xlabel('E / V', weight='bold')\n",
    "axs[1].set_ylabel('I / uA', weight='bold')\n",
    "\n",
    "axs[0].annotate('(a)', xy=(0, 0), xytext=(-0.8, 0.3), weight='bold')\n",
    "axs[1].annotate('(b)', xy=(0, 0), xytext=(-0.9, 165), weight='bold')\n",
    "\n",
    "axs[0].tick_params(width=1.5)\n",
    "for axis in ['top', 'right', 'bottom', 'left']:\n",
    "    axs[0].spines[axis].set_linewidth(1.5)\n",
    "axs[1].tick_params(width=1.5)\n",
    "for axis in ['top', 'right', 'bottom', 'left']:\n",
    "    axs[1].spines[axis].set_linewidth(1.5)\n",
    "\n",
    "\n",
    "fig.tight_layout()\n",
    "\n",
    "fig.savefig(\"CV.png\")"
   ]
  }
 ],
 "metadata": {
  "kernelspec": {
   "display_name": "Python 3 (ipykernel)",
   "language": "python",
   "name": "python3"
  },
  "language_info": {
   "codemirror_mode": {
    "name": "ipython",
    "version": 3
   },
   "file_extension": ".py",
   "mimetype": "text/x-python",
   "name": "python",
   "nbconvert_exporter": "python",
   "pygments_lexer": "ipython3",
   "version": "3.10.6"
  }
 },
 "nbformat": 4,
 "nbformat_minor": 5
}
