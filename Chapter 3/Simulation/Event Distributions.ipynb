{
 "cells": [
  {
   "cell_type": "code",
   "execution_count": null,
   "id": "1aaa794f-ce0d-489c-ae80-73d0718ce0f7",
   "metadata": {},
   "outputs": [],
   "source": [
    "import os, glob, pickle\n",
    "\n",
    "import numpy as np\n",
    "import pandas as pd\n",
    "\n",
    "import matplotlib.pyplot as plt\n",
    "import seaborn as sns"
   ]
  },
  {
   "cell_type": "markdown",
   "id": "d1e7e1a0-303d-4106-8bb4-7e5cb9fe5689",
   "metadata": {},
   "source": [
    "## Load Data"
   ]
  },
  {
   "cell_type": "code",
   "execution_count": null,
   "id": "99f7243a-d0a8-4c88-ae5a-5c635bb4022e",
   "metadata": {},
   "outputs": [],
   "source": [
    "directory = 'INSERT_DIRECTORY' # Load simulated data created by \"CreateData.ipynb\"\n",
    "files = glob.glob(os.path.join(directory, '*.pkl'))\n",
    "files"
   ]
  },
  {
   "cell_type": "code",
   "execution_count": null,
   "id": "513be991-911b-4e33-91d2-0cdb84ebd3a9",
   "metadata": {},
   "outputs": [],
   "source": [
    "molecules = [x.split('_')[-2] for x in files]\n",
    "molecules"
   ]
  },
  {
   "cell_type": "code",
   "execution_count": null,
   "id": "07408082-d176-4755-b3d5-1e6f4307ee47",
   "metadata": {},
   "outputs": [],
   "source": [
    "all_data = []\n",
    "for i in range(len(molecules)):\n",
    "    molecule = molecules[i]\n",
    "    \n",
    "    print(molecule)\n",
    "    \n",
    "    file = files[i]\n",
    "    with open(file, 'rb') as f:\n",
    "        data = pickle.load(f)\n",
    "    all_data.append(data)"
   ]
  },
  {
   "cell_type": "markdown",
   "id": "7a43995d-d569-49f5-9a4e-1818fca3a35c",
   "metadata": {},
   "source": [
    "## Event Analysis"
   ]
  },
  {
   "cell_type": "markdown",
   "id": "3facbe10-5d45-40d3-8c54-480566a44299",
   "metadata": {},
   "source": [
    "### Duration\n",
    "Calculate the duration of each event for each class"
   ]
  },
  {
   "cell_type": "code",
   "execution_count": null,
   "id": "315edc44-df1a-4636-babb-2a4aa44dfd24",
   "metadata": {},
   "outputs": [],
   "source": [
    "all_event_durs = []\n",
    "for i in range(len(molecules)):\n",
    "    all_durs = []\n",
    "    all_mol_evts = all_data[i][1]\n",
    "    for trace_evts in all_mol_evts:\n",
    "        for evt in trace_evts:\n",
    "            dur = evt[1] - evt[0]\n",
    "            if dur == 0:\n",
    "                continue\n",
    "            all_durs.append(dur)\n",
    "    all_event_durs.append(all_durs)      "
   ]
  },
  {
   "cell_type": "markdown",
   "id": "541b3a45-9267-4b1b-a644-b4ddbe647d76",
   "metadata": {},
   "source": [
    "Plot the distribution of event durations grouped by class"
   ]
  },
  {
   "cell_type": "code",
   "execution_count": null,
   "id": "5e489640-6c1c-4e73-bc67-6e2c4c796e91",
   "metadata": {},
   "outputs": [],
   "source": [
    "all_event_durs_flattened = [x for y in all_event_durs for x in y]\n",
    "bin_edges = np.histogram_bin_edges(all_event_durs_flattened, bins=60)\n",
    "bin_mids = bin_mids = bin_edges[1:] - ((bin_edges[1] - bin_edges[0]) / 2)"
   ]
  },
  {
   "cell_type": "code",
   "execution_count": null,
   "id": "f400865a-8977-4248-8bba-ba2237f502fe",
   "metadata": {
    "tags": []
   },
   "outputs": [],
   "source": [
    "fig, ax = plt.subplots()\n",
    "for durs in all_event_durs:\n",
    "    counts = np.histogram(durs, bins=bin_edges)[0]\n",
    "    res = ax.bar(bin_mids, counts, width=np.diff(bin_edges), alpha=0.7)\n",
    "ax.legend(molecules)"
   ]
  },
  {
   "cell_type": "markdown",
   "id": "34bf83ab-a0ca-4dd5-add0-2cb254c3a42f",
   "metadata": {},
   "source": [
    "### Height\n",
    "Calculate the height of each event for each class by taking the median"
   ]
  },
  {
   "cell_type": "code",
   "execution_count": null,
   "id": "0448a868-a643-44f4-9a7a-a27bcd91ac55",
   "metadata": {},
   "outputs": [],
   "source": [
    "all_event_heights = []\n",
    "for i in range(len(molecules)):\n",
    "    all_heights = []\n",
    "    all_mol_evts = all_data[i][1]\n",
    "    for j, trace_evts in enumerate(all_mol_evts):\n",
    "        trace_data = all_data[i][0][:, j]\n",
    "        for evt in trace_evts:\n",
    "            if evt[1] - evt[0] == 0:\n",
    "                continue\n",
    "            evt_points = trace_data[evt[0]:evt[1]]\n",
    "            height = np.median(evt_points)\n",
    "            all_heights.append(height)\n",
    "    all_event_heights.append(all_heights)   "
   ]
  },
  {
   "cell_type": "markdown",
   "id": "060fe06c-601f-4ea0-80f8-dc0723779cad",
   "metadata": {},
   "source": [
    "Plot the distribution of event heights grouped by class"
   ]
  },
  {
   "cell_type": "code",
   "execution_count": null,
   "id": "66f6ff97-fc44-42da-8701-95bffa393c56",
   "metadata": {},
   "outputs": [],
   "source": [
    "all_event_heights_flattened = [x for y in all_event_heights for x in y]\n",
    "bin_edges = np.histogram_bin_edges(all_event_heights_flattened, bins=60)\n",
    "bin_mids = bin_mids = bin_edges[1:] - ((bin_edges[1] - bin_edges[0]) / 2)"
   ]
  },
  {
   "cell_type": "code",
   "execution_count": null,
   "id": "d6044aef-1548-4860-879a-7e527366874d",
   "metadata": {},
   "outputs": [],
   "source": [
    "fig, ax = plt.subplots()\n",
    "for heights in all_event_heights:\n",
    "    counts = np.histogram(heights, bins=bin_edges)[0]\n",
    "    res = ax.bar(bin_mids, counts, width=np.diff(bin_edges), alpha=0.7)\n",
    "ax.legend(molecules)"
   ]
  },
  {
   "cell_type": "markdown",
   "id": "65ed8c19-3acf-4374-bfc6-e55b0504cbbe",
   "metadata": {},
   "source": [
    "### Scatter"
   ]
  },
  {
   "cell_type": "markdown",
   "id": "727a223e-9532-454a-a192-c49ba57934c0",
   "metadata": {},
   "source": [
    "Plot a scatter of event height vs duration grouped by class"
   ]
  },
  {
   "cell_type": "code",
   "execution_count": null,
   "id": "5f403a35-620c-43c4-9d3e-542dd6e0c35c",
   "metadata": {},
   "outputs": [],
   "source": [
    "fig, ax = plt.subplots()\n",
    "for i in range(len(molecules)):\n",
    "    ax.scatter(all_event_durs[i], all_event_heights[i], s=3, alpha=0.7)"
   ]
  },
  {
   "cell_type": "markdown",
   "id": "0f70a023-22fc-4222-b8c9-3ea67920b297",
   "metadata": {},
   "source": [
    "## Intraevent Current"
   ]
  },
  {
   "cell_type": "markdown",
   "id": "83a79d48-07ef-421c-8dbe-fae7cbaa0bfd",
   "metadata": {},
   "source": [
    "Calculate the standard deviation of values within each event"
   ]
  },
  {
   "cell_type": "code",
   "execution_count": null,
   "id": "0435f3a7-d872-4b42-b913-822f7b6256f3",
   "metadata": {},
   "outputs": [],
   "source": [
    "all_event_devs = []\n",
    "for i in range(len(molecules)):\n",
    "    all_devs = []\n",
    "    all_mol_evts = all_data[i][1]\n",
    "    for j, trace_evts in enumerate(all_mol_evts):\n",
    "        trace_data = all_data[i][0][:, j]\n",
    "        for evt in trace_evts:\n",
    "            if evt[1] - evt[0] == 0:\n",
    "                continue\n",
    "            evt_points = trace_data[evt[0]:evt[1]]\n",
    "            dev = evt_points.std()\n",
    "            all_devs.append(dev)\n",
    "    all_event_devs.append(all_devs)\n",
    "    "
   ]
  },
  {
   "cell_type": "markdown",
   "id": "9ff10fc2-11de-4053-a9c3-c02814cf7f98",
   "metadata": {},
   "source": [
    "Plot the distribution of event deviations grouped by class"
   ]
  },
  {
   "cell_type": "code",
   "execution_count": null,
   "id": "71ffe3e7-1242-467f-8e4b-f177126f45f3",
   "metadata": {},
   "outputs": [],
   "source": [
    "all_event_devs_flattened = [x for y in all_event_devs for x in y]\n",
    "bin_edges = np.histogram_bin_edges(all_event_devs_flattened, bins=60)\n",
    "bin_mids = bin_mids = bin_edges[1:] - ((bin_edges[1] - bin_edges[0]) / 2)"
   ]
  },
  {
   "cell_type": "code",
   "execution_count": null,
   "id": "be93195e-5a6c-4e03-b59a-961348027421",
   "metadata": {},
   "outputs": [],
   "source": [
    "fig, ax = plt.subplots()\n",
    "for devs in all_event_devs:\n",
    "    counts = np.histogram(devs, bins=bin_edges)[0]\n",
    "    res = ax.bar(bin_mids, counts, width=np.diff(bin_edges), alpha=0.7)\n",
    "ax.legend(molecules)"
   ]
  },
  {
   "cell_type": "markdown",
   "id": "3924fa3c-fde2-46db-a62d-60ccb2c1ec9f",
   "metadata": {},
   "source": [
    "## Duration and Height"
   ]
  },
  {
   "cell_type": "markdown",
   "id": "fef11c6f-f064-44b0-908a-d57e2a63269e",
   "metadata": {},
   "source": [
    "Organise the calculated properties into a Pandas DataFrame for easier handling"
   ]
  },
  {
   "cell_type": "code",
   "execution_count": null,
   "id": "077f85b0-dfba-435a-9660-1da847942a29",
   "metadata": {},
   "outputs": [],
   "source": [
    "columns = ['Molecule', 'Event Height', 'Event Duration']\n",
    "\n",
    "df = pd.DataFrame(columns=columns)\n",
    "\n",
    "for i in range(len(molecules)):\n",
    "    all_mol_evts = all_data[i][1]\n",
    "    for j, trace_evts in enumerate(all_mol_evts):\n",
    "        trace_data = all_data[i][0][:, j]\n",
    "        for evt in trace_evts:\n",
    "            dur = evt[1] - evt[0]\n",
    "            if dur == 0:\n",
    "                continue\n",
    "            evt_points = trace_data[evt[0]:evt[1]]\n",
    "            height = np.median(evt_points)\n",
    "            row = pd.DataFrame([[molecules[i], height, dur]], columns=columns)\n",
    "            \n",
    "            df = pd.concat([df, row], ignore_index=True)\n",
    "df"
   ]
  },
  {
   "cell_type": "code",
   "execution_count": null,
   "id": "b0cb4cde-56f4-4c3e-8c0b-f2833de940ea",
   "metadata": {},
   "outputs": [],
   "source": [
    "df['Event Duration'] = df['Event Duration'] / 25000 * 1000 # Convert durations from datapoints to milliseconds. Assumes 25kHz sampling rate"
   ]
  },
  {
   "cell_type": "markdown",
   "id": "18f5ec8b-260e-4176-a7c6-4d6b3266bd9b",
   "metadata": {},
   "source": [
    "Displays both distributions and scatter plots for event height and duration on a joint plot"
   ]
  },
  {
   "cell_type": "code",
   "execution_count": null,
   "id": "d21f64ae-39ac-4cd5-bb10-edb492e25044",
   "metadata": {},
   "outputs": [],
   "source": [
    "g = sns.JointGrid(height=5)\n",
    "g.figure.set_dpi(600)\n",
    "\n",
    "sns.scatterplot(data=df, x='Event Duration', y='Event Height', hue='Molecule', ax=g.ax_joint)\n",
    "sns.histplot(data=df, x='Event Duration', hue='Molecule', ax=g.ax_marg_x, bins=59)\n",
    "sns.histplot(data=df, y='Event Height', hue='Molecule', ax=g.ax_marg_y)\n",
    "\n",
    "g.ax_joint.set_xlabel('Event Duration / ms', weight='bold')\n",
    "g.ax_joint.set_ylabel('Event Height / nA', weight='bold')\n",
    "\n",
    "g.ax_marg_x.get_legend().remove()\n",
    "g.ax_marg_y.get_legend().remove()\n",
    "g.ax_marg_x.set(ylim=(0, 1500))\n",
    "g.ax_marg_y.set(xlim=(0, 3000))\n",
    "\n",
    "g.ax_joint.tick_params(width=1.5)\n",
    "for axis in ['top', 'right', 'bottom', 'left']:\n",
    "    g.ax_joint.spines[axis].set_linewidth(1.5)\n",
    "    \n",
    "g.figure.tight_layout()\n",
    "    \n",
    "# g.figure.savefig('SimEvts.png')"
   ]
  }
 ],
 "metadata": {
  "kernelspec": {
   "display_name": "Python 3 (ipykernel)",
   "language": "python",
   "name": "python3"
  },
  "language_info": {
   "codemirror_mode": {
    "name": "ipython",
    "version": 3
   },
   "file_extension": ".py",
   "mimetype": "text/x-python",
   "name": "python",
   "nbconvert_exporter": "python",
   "pygments_lexer": "ipython3",
   "version": "3.10.6"
  }
 },
 "nbformat": 4,
 "nbformat_minor": 5
}
