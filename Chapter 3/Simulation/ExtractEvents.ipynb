{
 "cells": [
  {
   "cell_type": "code",
   "execution_count": null,
   "id": "a04d7ab0-f191-43ec-acf1-a6588f5109b0",
   "metadata": {},
   "outputs": [],
   "source": [
    "import pickle\n",
    "import os, glob\n",
    "\n",
    "import numpy as np\n",
    "\n",
    "import matplotlib.pyplot as plt"
   ]
  },
  {
   "cell_type": "markdown",
   "id": "b79913d0-07d9-44b1-a789-a9804845dd1d",
   "metadata": {},
   "source": [
    "## Load Data and Extract Events"
   ]
  },
  {
   "cell_type": "code",
   "execution_count": null,
   "id": "1b408668-1e27-4b27-a65c-62eca2442609",
   "metadata": {},
   "outputs": [],
   "source": [
    "directory = 'INSERT_DIRECTORY' # Load simulated data created by \"CreateData.ipynb\"\n",
    "files = glob.glob(os.path.join(directory, '*.pkl'))\n",
    "files"
   ]
  },
  {
   "cell_type": "code",
   "execution_count": null,
   "id": "db738398-5f76-41a7-a38d-cb1c2b4ad644",
   "metadata": {},
   "outputs": [],
   "source": [
    "molecules = [x.split('_')[-2] for x in files] # Extract class names\n",
    "molecules"
   ]
  },
  {
   "cell_type": "code",
   "execution_count": null,
   "id": "b19ab56b-a501-4d3e-bbd2-60ab32d7e222",
   "metadata": {},
   "outputs": [],
   "source": [
    "def extract_events(data):\n",
    "    traces = data[0]\n",
    "    evt_locs = data[1]\n",
    "    \n",
    "    events = []\n",
    "    for i, trace in enumerate(evt_locs):\n",
    "        for event in trace:\n",
    "            start = event[0]\n",
    "            end = event[1]\n",
    "\n",
    "            event = traces[start:end, i]\n",
    "            events.append(event)\n",
    "    return events\n",
    "        \n",
    "all_data = []\n",
    "data_events = []\n",
    "for i in range(len(molecules)):\n",
    "    molecule = molecules[i]\n",
    "    \n",
    "    print(molecule)\n",
    "    \n",
    "    file = files[i]\n",
    "    with open(file, 'rb') as f:\n",
    "        data = pickle.load(f)\n",
    "    all_data.append(data)\n",
    "    \n",
    "    events = extract_events(data)\n",
    "    data_events.append(events)"
   ]
  },
  {
   "cell_type": "markdown",
   "id": "aded131e-729c-44d7-830f-62787611b3d2",
   "metadata": {},
   "source": [
    "## Pad Events\n",
    "Ensures each event has the same length by padding with zeros. This allows use within a neural network."
   ]
  },
  {
   "cell_type": "code",
   "execution_count": null,
   "id": "84cff9ef-4394-48e1-a59d-2383c33f1004",
   "metadata": {},
   "outputs": [],
   "source": [
    "longest_evt = max([len(x) for molecule in data_events for x in molecule])\n",
    "longest_evt   "
   ]
  },
  {
   "cell_type": "code",
   "execution_count": null,
   "id": "a6bfb550-ab51-4c73-abb7-01664c78d76c",
   "metadata": {
    "tags": []
   },
   "outputs": [],
   "source": [
    "data_events_padded = []\n",
    "for i, molecule in enumerate(data_events):\n",
    "    molecule_events_padded = []\n",
    "    for j, event in enumerate(molecule):\n",
    "        new_event = np.pad(event, (longest_evt - len(event), 0), mode='constant') \n",
    "        molecule_events_padded.append(new_event)\n",
    "    data_events_padded.append(molecule_events_padded)"
   ]
  },
  {
   "cell_type": "markdown",
   "id": "b9adedb8-c898-4868-9ca1-5035a73b7548",
   "metadata": {},
   "source": [
    "## Save Padded Events"
   ]
  },
  {
   "cell_type": "code",
   "execution_count": null,
   "id": "7e316abb-8f20-4a61-bcb0-bc4ebf86827e",
   "metadata": {},
   "outputs": [],
   "source": [
    "for i, molecule in enumerate(molecules):\n",
    "    fname = 'sim_{}_events.pkl'.format(molecule)\n",
    "    padded_events = data_events_padded[i]\n",
    "    \n",
    "    with open(fname, 'wb') as f:\n",
    "        pickle.dump(padded_events, f)\n",
    "    "
   ]
  },
  {
   "cell_type": "markdown",
   "id": "7f075a32-d3c4-4f30-988f-c202dd7d331e",
   "metadata": {},
   "source": [
    "## Display Example Event"
   ]
  },
  {
   "cell_type": "code",
   "execution_count": null,
   "id": "1643f2e5-862b-4d61-a990-5a850142b615",
   "metadata": {},
   "outputs": [],
   "source": [
    "i = 0 #molecule idx\n",
    "j = 0 #trace idx\n",
    "k = 1 #event idx\n",
    "pad = 500\n",
    "\n",
    "trace = all_data[i][0][:, j]\n",
    "x = np.linspace(0, len(trace), len(trace))\n",
    "evt = all_data[i][1][j][k]\n",
    "\n",
    "fig, ax = plt.subplots()\n",
    "ax.plot(x, trace)\n",
    "ax.plot(x[evt[0]:evt[1]], trace[evt[0]:evt[1]], color='red')\n",
    "\n",
    "ax.set(xlim=(evt[0] - pad, evt[1] + pad))"
   ]
  },
  {
   "cell_type": "markdown",
   "id": "93ad8afe-6088-436e-8426-cf3c4ed6376d",
   "metadata": {},
   "source": [
    "Plot examples from each class in a single figure"
   ]
  },
  {
   "cell_type": "code",
   "execution_count": null,
   "id": "fbd2061a-e3f3-45c2-90fd-ce84d4a795b7",
   "metadata": {},
   "outputs": [],
   "source": [
    "fig, axs = plt.subplots(2, 3, figsize=(6, 4), dpi=600, sharey=True)\n",
    "pad = 100\n",
    "j = 1\n",
    "k = 3\n",
    "\n",
    "order = [1, 4, 3, 0, 2]\n",
    "labels = ['(a)', '(b)', '(c)', '(d)', '(e)']\n",
    "\n",
    "for i, idx in enumerate(order):\n",
    "    ax = axs.flatten()[i]\n",
    "    trace = all_data[idx][0][:, j]\n",
    "    x = np.linspace(0, len(trace), len(trace)) / 25\n",
    "    evt = all_data[idx][1][j][k]\n",
    "    ax.plot(x[evt[0]-pad:evt[1]+pad], trace[evt[0]-pad:evt[1]+pad])\n",
    "    ax.plot(x[evt[0]:evt[1]], trace[evt[0]:evt[1]], color='red')\n",
    "\n",
    "    ax.set_xlabel(\"Time / ms\", weight='bold')\n",
    "    ax.annotate(labels[i], xy=(0.0, 1.07), xytext=(0, 0), xycoords='axes fraction', textcoords='offset points', weight='bold')\n",
    "    ax.tick_params(width=1.5)\n",
    "    for axis in ['top', 'right', 'bottom', 'left']:\n",
    "        ax.spines[axis].set_linewidth(1.5)\n",
    "    # ax.set_title(molecules[idx], weight='bold')\n",
    "axs[0, 0].set_ylabel(\"Current / nA\", weight='bold')\n",
    "axs[1, 0].set_ylabel(\"Current / nA\", weight='bold')\n",
    "axs[-1, -1].remove()\n",
    "    \n",
    "fig.tight_layout()\n",
    "# fig.savefig(\"Example Sim Evts.png\")"
   ]
  }
 ],
 "metadata": {
  "kernelspec": {
   "display_name": "Python 3 (ipykernel)",
   "language": "python",
   "name": "python3"
  },
  "language_info": {
   "codemirror_mode": {
    "name": "ipython",
    "version": 3
   },
   "file_extension": ".py",
   "mimetype": "text/x-python",
   "name": "python",
   "nbconvert_exporter": "python",
   "pygments_lexer": "ipython3",
   "version": "3.10.6"
  }
 },
 "nbformat": 4,
 "nbformat_minor": 5
}
