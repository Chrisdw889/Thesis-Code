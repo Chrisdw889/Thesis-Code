{
 "cells": [
  {
   "cell_type": "code",
   "execution_count": null,
   "id": "d6482193-42b7-4e97-b605-5569bfea0f55",
   "metadata": {},
   "outputs": [],
   "source": [
    "import STMItSim as Sim\n",
    "\n",
    "import pickle"
   ]
  },
  {
   "cell_type": "markdown",
   "id": "be1a3b9b-e9a9-4748-90b2-1fbba7dd5102",
   "metadata": {},
   "source": [
    "## Simulate I(t) Traces"
   ]
  },
  {
   "cell_type": "code",
   "execution_count": null,
   "id": "64f98829-32b3-41f9-9ec1-dfbeef51ea96",
   "metadata": {
    "tags": []
   },
   "outputs": [],
   "source": [
    "traces_per_class = 500\n",
    "points_per_trace = 25000\n",
    "\n",
    "phos = Sim.STMItSim(0, 0, 0, 0, 0, 0, 0, traces_per_class, points_per_trace)\n",
    "rAMP = Sim.STMItSim(20, 25, 5, 0.05, 0.005, 0.006, 0.0012, traces_per_class, points_per_trace)\n",
    "rTMP = Sim.STMItSim(15, 30, 6, 0.07, 0.007, 0.004, 0.0008, traces_per_class, points_per_trace)\n",
    "rCMP = Sim.STMItSim(10, 20, 4, 0.04, 0.003, 0.009, 0.0018, traces_per_class, points_per_trace)\n",
    "rGMP = Sim.STMItSim(20, 35, 7, 0.07, 0.009, 0.001, 0.0002, traces_per_class, points_per_trace)"
   ]
  },
  {
   "cell_type": "markdown",
   "id": "b5dca638-7d06-40d8-b484-56f4294e2f6f",
   "metadata": {},
   "source": [
    "## Structure Sim Ouputs\n",
    "Each class is packaged into a list. The first index contains entire I(t) traces. The second index contains a list of event start and end indices organised by trace index"
   ]
  },
  {
   "cell_type": "code",
   "execution_count": null,
   "id": "fb498fdb-5767-4c3b-8c4a-67d2d3e23728",
   "metadata": {},
   "outputs": [],
   "source": [
    "phos_data = [phos[0], phos[1]]\n",
    "rAMP_data = [rAMP[0],rAMP[2]]\n",
    "rTMP_data = [rTMP[0],rTMP[2]]\n",
    "rCMP_data = [rCMP[0],rCMP[2]]\n",
    "rGMP_data = [rGMP[0],rGMP[2]]"
   ]
  },
  {
   "cell_type": "markdown",
   "id": "5fcc2aaa-b3dd-441d-a4b4-cd90395df2d8",
   "metadata": {},
   "source": [
    "## Save I(t) Traces and Event Locations"
   ]
  },
  {
   "cell_type": "code",
   "execution_count": null,
   "id": "aa0c8587-de77-4f38-b95b-ec999bc55e6c",
   "metadata": {},
   "outputs": [],
   "source": [
    "molecules = ['phos', 'rAMP', 'rTMP', 'rCMP', 'rGMP']\n",
    "data = [phos_data, rAMP_data, rTMP_data, rCMP_data, rGMP_data]\n",
    "\n",
    "for i in range(len(molecules)):\n",
    "    filename = 'sim_{}_data.pkl'.format(molecules[i]) # Save data as pickle files\n",
    "    with open(filename, 'wb') as f:\n",
    "        pickle.dump(data[i], f)"
   ]
  }
 ],
 "metadata": {
  "kernelspec": {
   "display_name": "Python 3 (ipykernel)",
   "language": "python",
   "name": "python3"
  },
  "language_info": {
   "codemirror_mode": {
    "name": "ipython",
    "version": 3
   },
   "file_extension": ".py",
   "mimetype": "text/x-python",
   "name": "python",
   "nbconvert_exporter": "python",
   "pygments_lexer": "ipython3",
   "version": "3.10.6"
  }
 },
 "nbformat": 4,
 "nbformat_minor": 5
}
