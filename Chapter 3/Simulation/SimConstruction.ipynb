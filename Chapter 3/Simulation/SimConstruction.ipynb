{
 "cells": [
  {
   "cell_type": "code",
   "execution_count": null,
   "id": "d6316013-90cf-416d-86f2-e1c22458c7c9",
   "metadata": {},
   "outputs": [],
   "source": [
    "import STMItSim as Sim\n",
    "\n",
    "import numpy as np\n",
    "\n",
    "import matplotlib.pyplot as plt"
   ]
  },
  {
   "cell_type": "markdown",
   "id": "701702fe-4640-4a5d-b2ae-fe9c1e956a74",
   "metadata": {},
   "source": [
    "Demonstration of each step of the simulations construction process."
   ]
  },
  {
   "cell_type": "markdown",
   "id": "368d0f9a-6640-40b4-acb6-c30a5695a48b",
   "metadata": {},
   "source": [
    "## Initialise Constants"
   ]
  },
  {
   "cell_type": "code",
   "execution_count": null,
   "id": "6a07ad7f-28be-48d5-a32f-d54005214e58",
   "metadata": {},
   "outputs": [],
   "source": [
    "points = 25000\n",
    "\n",
    "#Baseline sinusoid distribution\n",
    "inter_freq_mean = 500\n",
    "inter_freq_std = 100\n",
    "    \n",
    "inter_amp_mean = 0.01\n",
    "inter_amp_std = 0.005\n",
    "\n",
    "#Frequency Modulation\n",
    "noise_freq_mean = 100\n",
    "noise_freq_std = 10 \n",
    "noise_freq_freq_mean = 10\n",
    "noise_freq_freq_std = 2\n",
    "    \n",
    "noise_freq_fm_freq_mean = 10\n",
    "noise_freq_fm_freq_std = 0\n",
    "\n",
    "# Amplitude Modulation \n",
    "noise_amp_freq_mean = 5\n",
    "noise_amp_freq_std = 1\n",
    "noise_amp_mean = 0.5\n",
    "noise_amp_std = 0.05\n",
    "    \n",
    "noise_amp_fm_freq_mean = 10\n",
    "noise_amp_fm_freq_std = 2\n",
    "\n",
    "# Noise event params\n",
    "noise_event_freq = 20\n",
    "noise_dur_mean = 2\n",
    "noise_dur_sig = 0.5\n",
    "noise_height_mean = 0.025\n",
    "noise_height_sig = 0.001\n",
    "noise_curr_sig_mean = 0.001\n",
    "noise_curr_sig_sig = 0"
   ]
  },
  {
   "cell_type": "markdown",
   "id": "a95103f8-5dfe-4e89-9afe-e08ce1c5ba45",
   "metadata": {},
   "source": [
    "## Simulate Trace Components"
   ]
  },
  {
   "cell_type": "code",
   "execution_count": null,
   "id": "b652e7c9-2523-4859-9613-f643b13a88cb",
   "metadata": {},
   "outputs": [],
   "source": [
    "baseline = np.random.normal(0, 0.005, points)\n",
    "\n",
    "inter_amp = np.random.normal(inter_amp_mean, inter_amp_std)\n",
    "inter_freq = np.random.normal(inter_freq_mean, inter_freq_std)\n",
    "phase = np.random.uniform(0, 2 * np.pi)\n",
    "\n",
    "AM = Sim.genAmpMod(1, noise_amp_mean, noise_amp_std, noise_amp_freq_mean, noise_amp_freq_std, noise_amp_fm_freq_mean, noise_amp_fm_freq_std, points)\n",
    "FM = Sim.genAmpMod(1, noise_freq_mean, noise_freq_std, noise_freq_freq_mean, noise_freq_freq_std, noise_freq_fm_freq_mean, noise_freq_fm_freq_std, points)\n",
    "\n",
    "sin_one = [AM[i] * inter_amp * np.sin(FM[i] * inter_freq * x + phase) for i, x in enumerate(np.linspace(0, 1, points))]\n",
    "\n",
    "complete_baseline = baseline + sin_one\n",
    "\n",
    "complete_baseline_evts, evt_locs = Sim.genEvents(complete_baseline.copy(), noise_event_freq, noise_dur_mean, noise_dur_sig, noise_height_mean, noise_height_sig, noise_curr_sig_mean, noise_curr_sig_sig, points)"
   ]
  },
  {
   "cell_type": "markdown",
   "id": "e6d483b2-e98f-4312-8838-759ffe4640c8",
   "metadata": {},
   "source": [
    "## Scale Traces"
   ]
  },
  {
   "cell_type": "code",
   "execution_count": null,
   "id": "73030793-5276-4b3c-b4bc-7a801a6d4dfb",
   "metadata": {},
   "outputs": [],
   "source": [
    "baseline = baseline * 1000\n",
    "sin_one = np.array(sin_one) * 1000\n",
    "complete_baseline = complete_baseline * 1000\n",
    "complete_baseline_evts = complete_baseline_evts * 1000"
   ]
  },
  {
   "cell_type": "markdown",
   "id": "d5d958d7-e22e-4fe3-8935-dfb97712d1b6",
   "metadata": {},
   "source": [
    "## Visualise Components"
   ]
  },
  {
   "cell_type": "code",
   "execution_count": null,
   "id": "3003c913-a0b4-4a7e-a991-9149822cdd18",
   "metadata": {},
   "outputs": [],
   "source": [
    "fig, axs = plt.subplots(4, 1, figsize=(6, 4), dpi=600, sharex=True)\n",
    "x = np.linspace(0, 1, points)\n",
    "axs[0].plot(x, baseline)\n",
    "axs[1].plot(x, sin_one)\n",
    "axs[2].plot(x, complete_baseline)\n",
    "axs[3].plot(x, complete_baseline_evts)\n",
    "\n",
    "labels = ['(a)', '(b)', '(c)', '(d)']\n",
    "\n",
    "fig.subplots_adjust(left=0.2)\n",
    "\n",
    "for label, ax in zip(labels, axs):\n",
    "    ax.set(xlim=(0.8, 0.9), ylim=(-0.03 * 1000, 0.03 * 1000))\n",
    "    ax.annotate(label, weight='bold', xy=(0.8, 0), xytext=(0.78, 20))\n",
    "    #ax.set_ylabel('Current \\n/ pA', weight='bold')\n",
    "    \n",
    "axs[0].annotate('Current / pA', weight='bold', xy=(0.8, 0), xytext=(0.787, -150), rotation = 90)\n",
    "\n",
    "axs[3].set_xlabel('Time / s', weight='bold')\n",
    "\n",
    "# fig.savefig('SimCreation.png')"
   ]
  },
  {
   "cell_type": "code",
   "execution_count": null,
   "id": "7d67e002-8101-4d33-89fc-0f98d10faca1",
   "metadata": {},
   "outputs": [],
   "source": [
    "fig, axs = plt.subplots(3, 1, figsize=(6, 4), dpi=600, sharex=True)\n",
    "x = np.linspace(0, 1, points)\n",
    "axs[0].plot(x, [FM[i] * inter_freq for i in range(points)])\n",
    "axs[1].plot(x, [AM[i] * inter_amp for i in range(points)])\n",
    "axs[2].plot(x, sin_one)\n",
    "\n",
    "axs[-1].set_xlabel('Time / s', weight='bold')\n",
    "axs[-1].set_ylabel('Current / nA', weight='bold')\n",
    "\n",
    "for ax in axs:\n",
    "    ax.tick_params(width=1.5)\n",
    "    for axis in ['top', 'right', 'bottom', 'left']:\n",
    "        ax.spines[axis].set_linewidth(1.5)\n",
    "        \n",
    "labels = ['(a)', '(b)', '(c)']\n",
    "\n",
    "axs[0].annotate(labels[0], weight='bold', xy=(0, 0), xytext=(-0.45, 50000))\n",
    "axs[1].annotate(labels[1], weight='bold', xy=(0, -0.004), xytext=(-0.45, -0.00126))\n",
    "axs[2].annotate(labels[2], weight='bold', xy=(0, 0), xytext=(-0.45, 0.0035))\n",
    "\n",
    "fig.subplots_adjust(left=0.3)\n",
    "\n",
    "# fig.savefig(\"SinConstruction.png\")"
   ]
  }
 ],
 "metadata": {
  "kernelspec": {
   "display_name": "Python 3 (ipykernel)",
   "language": "python",
   "name": "python3"
  },
  "language_info": {
   "codemirror_mode": {
    "name": "ipython",
    "version": 3
   },
   "file_extension": ".py",
   "mimetype": "text/x-python",
   "name": "python",
   "nbconvert_exporter": "python",
   "pygments_lexer": "ipython3",
   "version": "3.10.6"
  }
 },
 "nbformat": 4,
 "nbformat_minor": 5
}
