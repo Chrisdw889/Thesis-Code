{
 "cells": [
  {
   "cell_type": "code",
   "execution_count": null,
   "id": "a6bcf36c-1a0d-4547-81fd-944364b2db37",
   "metadata": {},
   "outputs": [],
   "source": [
    "import sys, os, glob\n",
    "\n",
    "import BreakJunctionUtilities as bju\n",
    "\n",
    "import numpy as np\n",
    "import pandas as pd\n",
    "\n",
    "import pickle"
   ]
  },
  {
   "cell_type": "markdown",
   "id": "dc9c735c-9ac1-4e30-9b9c-9cc8ce6b18c8",
   "metadata": {},
   "source": [
    "# Load Data"
   ]
  },
  {
   "cell_type": "code",
   "execution_count": null,
   "id": "d0a1dd0c-342f-4199-8d51-77368af6e65f",
   "metadata": {},
   "outputs": [],
   "source": [
    "directory = 'INSERT DIRECTORY' # Directory to a folder containing subdirectories hosting BJ data mat files\n",
    "folders=[]\n",
    "files = os.listdir(directory)\n",
    "for file in files:\n",
    "    if os.path.isdir(os.path.join(directory, file)):\n",
    "        folders.append(file)\n",
    "folders"
   ]
  },
  {
   "cell_type": "code",
   "execution_count": null,
   "id": "a12409cd-47e5-4b5b-81b5-e0145cab47f7",
   "metadata": {},
   "outputs": [],
   "source": [
    "# Load BJ data files created by BJSaveData.m\n",
    "raw_files = []\n",
    "file_pattern = '*{}.mat' # File pattern for files to load\n",
    "# file_pattern = '*BJ*.mat'\n",
    "# file_pattern = '*.mat'\n",
    "for folder in folders:\n",
    "    full_path = os.path.join(directory, folder, file_pattern.format(folder))\n",
    "    path = glob.glob(full_path)[0]\n",
    "    raw = bju.loadmat(path)\n",
    "    raw_files.append(raw)   "
   ]
  },
  {
   "cell_type": "markdown",
   "id": "f0485c9c-0501-4b2f-8021-8d2d1e711e32",
   "metadata": {},
   "source": [
    "# Format BJ Data"
   ]
  },
  {
   "cell_type": "code",
   "execution_count": null,
   "id": "79b62bdd-3707-4db0-9d2e-b406d652677f",
   "metadata": {},
   "outputs": [],
   "source": [
    "# Plateau Marks Constants\n",
    "start_mark = -0.1\n",
    "end_mark = -5.0\n",
    "sampling_points = 10"
   ]
  },
  {
   "cell_type": "code",
   "execution_count": null,
   "id": "cdb4e96b-22f7-4be4-bc2a-34e3ff3df265",
   "metadata": {},
   "outputs": [],
   "source": [
    "def calc_plat_len(x, y, start, end, samp):\n",
    "    '''\n",
    "    Calculates the x-length of a BJ plateau using a start and end y values.\n",
    "    '''\n",
    "    z1 = None\n",
    "    z2 = None\n",
    "    for i in range(len(y) - samp):\n",
    "        vals = y[i : i+samp]\n",
    "        avg = vals.mean()\n",
    "        if (avg < start) & (z1 == None):\n",
    "            z1 = x[int(i + (samp / 2))]\n",
    "        if (avg < end) & (z1 != None) & (z2 == None):\n",
    "            z2 = x[int(i + (samp / 2))]\n",
    "            break\n",
    "    if (z2 == None) or (z1 == None):\n",
    "        return None\n",
    "    else:\n",
    "        length = z2 - z1\n",
    "        return length\n",
    "    \n",
    "    \n",
    "        \n",
    "def format_data(raw_files):\n",
    "    '''\n",
    "    Formats BJ data into a DataFrame.\n",
    "    '''\n",
    "    columns = ['logG', 'Z', 'PlateauLen', 'speed', 'setpoint', 'bias', 'trial']\n",
    "    df = pd.DataFrame(columns=columns)\n",
    "    \n",
    "    for i in range(len(raw_files)):\n",
    "        trial = raw_files[i]\n",
    "        trial_num = folders[i]\n",
    "        trial_traces = trial['importedfiles']\n",
    "        for trace in trial_traces:\n",
    "            logG = trace['logG']\n",
    "            Z = trace['Z']\n",
    "            plat = calc_plat_len(Z, logG, start_mark, end_mark, sampling_points)\n",
    "            speed = trace['header']['speed']\n",
    "            setpoint = trace['header']['setpoint']\n",
    "            bias = trace['header']['bias']\n",
    "            \n",
    "            values = [[logG], [Z], plat, speed, setpoint, bias, trial_num]\n",
    "            entry = pd.DataFrame(dict(zip(columns, values)))\n",
    "            df = pd.concat((df, entry))\n",
    "    return df\n",
    "\n",
    "data_df = format_data(raw_files)\n",
    "data_df"
   ]
  },
  {
   "cell_type": "markdown",
   "id": "af977740-b2f9-445e-b256-8f1b14e13b51",
   "metadata": {},
   "source": [
    "# Save Formatted BJ Data"
   ]
  },
  {
   "cell_type": "code",
   "execution_count": null,
   "id": "f814f250-11fc-47b1-a89d-1473a3dea39c",
   "metadata": {},
   "outputs": [],
   "source": [
    "data_df.to_pickle(os.path.join(directory, \"INSERT FILENAME\"))"
   ]
  }
 ],
 "metadata": {
  "kernelspec": {
   "display_name": "Python 3 (ipykernel)",
   "language": "python",
   "name": "python3"
  },
  "language_info": {
   "codemirror_mode": {
    "name": "ipython",
    "version": 3
   },
   "file_extension": ".py",
   "mimetype": "text/x-python",
   "name": "python",
   "nbconvert_exporter": "python",
   "pygments_lexer": "ipython3",
   "version": "3.10.6"
  }
 },
 "nbformat": 4,
 "nbformat_minor": 5
}
