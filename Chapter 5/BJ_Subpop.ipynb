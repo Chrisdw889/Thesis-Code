{
 "cells": [
  {
   "cell_type": "code",
   "execution_count": null,
   "id": "2172d405-025a-44f2-a467-788c157db4c0",
   "metadata": {},
   "outputs": [],
   "source": [
    "import os, pickle\n",
    "\n",
    "import numpy as np\n",
    "import pandas as pd\n",
    "\n",
    "from sklearn.decomposition import PCA\n",
    "from sklearn.manifold import TSNE\n",
    "from umap import UMAP\n",
    "\n",
    "from sklearn.cluster import KMeans\n",
    "\n",
    "import matplotlib as mpl\n",
    "import matplotlib.pyplot as plt"
   ]
  },
  {
   "cell_type": "markdown",
   "id": "922a8173-7f79-44d9-853d-624879d18fbe",
   "metadata": {},
   "source": [
    "# Load Data"
   ]
  },
  {
   "cell_type": "code",
   "execution_count": null,
   "id": "2faa5e39-37ef-4087-8eb1-c6ffba85fd8d",
   "metadata": {},
   "outputs": [],
   "source": [
    "directory = 'INSERT DIRECTORY' # Directory to folder containing both outputs from BJ_filter.ipynb and BJ_ML_filter.ipynb\n",
    "\n",
    "dfile = 'INSERT FILENAME' # BJ_filter.ipynb output file\n",
    "cfile = 'INSERT FILENAME' # BJ_ML_filter.ipynb output file\n",
    "\n",
    "# Load DataFrames\n",
    "df_all = pd.read_pickle(os.path.join(directory, dfile)).reset_index()\n",
    "clust_df = pd.read_pickle(os.path.join(directory, cfile))\n",
    "\n",
    "# Select subset\n",
    "df = df_all.loc[(df_all.trial == 'Trial6') & (df_all.passed == 1)]\n",
    "df.shape"
   ]
  },
  {
   "cell_type": "markdown",
   "id": "88a1a49d-122a-4f0c-a001-816d0b780554",
   "metadata": {},
   "source": [
    "# Data Precprocessing"
   ]
  },
  {
   "cell_type": "code",
   "execution_count": null,
   "id": "65ae8823-8cf6-4204-b753-2d2c959e38f9",
   "metadata": {},
   "outputs": [],
   "source": [
    "# Select clean cluster from chosen DR method found in BJ_ML_filter.ipynb\n",
    "reducer = 'umap'\n",
    "clusts = [0, 1, 2, 3, 5, 6, 7, 9]\n",
    "\n",
    "selected = clust_df.loc[reducer, 'kmeans'].isin(clusts)\n",
    "selected_df = df.loc[selected.values]\n",
    "selected_df.head()"
   ]
  },
  {
   "cell_type": "code",
   "execution_count": null,
   "id": "e1b90616-9412-4bf5-838d-945c40c3ec68",
   "metadata": {},
   "outputs": [],
   "source": [
    "# Extract conductance and displacement data from selected cluster\n",
    "logGs = np.vstack(selected_df.logG.values)\n",
    "Zs = np.vstack(selected_df.Z.values)\n",
    "\n",
    "fig, ax = plt.subplots()\n",
    "h = ax.hist2d(Zs.flatten(), logGs.flatten(), bins=(133, 128), cmin=0, cmax=300, range=((0, 0.002), (-6, 0.3)))"
   ]
  },
  {
   "cell_type": "code",
   "execution_count": null,
   "id": "1afb4ff7-120a-4006-ace8-586cab8c2cb6",
   "metadata": {},
   "outputs": [],
   "source": [
    "def reduce_dims(traces, perp):\n",
    "    '''\n",
    "    Perform DR on chosen data subset\n",
    "    '''\n",
    "    pca = PCA(n_components=2, random_state=42)\n",
    "    tsne = TSNE(perplexity=perp, random_state=42)\n",
    "    umap = UMAP(n_neighbors=perp, min_dist=0.0, random_state=42)\n",
    "    \n",
    "    pca_red = pca.fit_transform(traces)\n",
    "    tsne_red = tsne.fit_transform(traces)\n",
    "    umap_red = umap.fit_transform(traces)\n",
    "    \n",
    "    return pca_red, tsne_red, umap_red"
   ]
  },
  {
   "cell_type": "code",
   "execution_count": null,
   "id": "653ca889-ef45-4320-a50f-8fee4324c800",
   "metadata": {},
   "outputs": [],
   "source": [
    "def extract_currents(x, y, xlims, resampling=False):\n",
    "    '''\n",
    "    Extract y values within x limits\n",
    "    '''\n",
    "    idxs = (x > xlims[0]) & (x < xlims[1])\n",
    "    \n",
    "    new_ys = []\n",
    "    new_xs = []\n",
    "    for i in range(idxs.shape[0]):\n",
    "        this_idx = idxs[i]\n",
    "        this_y = y[i]\n",
    "        this_x = x[i]\n",
    "        new_y = y[i, this_idx]\n",
    "        new_x = x[i, this_idx]\n",
    "        new_ys.append(new_y)\n",
    "        new_xs.append(new_x)\n",
    "    return np.array(new_xs), np.array(new_ys)\n",
    "        \n",
    "    "
   ]
  },
  {
   "cell_type": "markdown",
   "id": "6ce66663-8a62-4a35-9993-a6635e2bec54",
   "metadata": {},
   "source": [
    "## Alignment and ROI Focussing"
   ]
  },
  {
   "cell_type": "code",
   "execution_count": null,
   "id": "9220bbe7-8e3a-4465-a90d-191767903257",
   "metadata": {},
   "outputs": [],
   "source": [
    "# Alignment and ROI\n",
    "start_z, end_z = 0.000, 0.002\n",
    "\n",
    "new_Zs, new_logGs = extract_currents(Zs, logGs, xlims=(start_z, end_z), resampling=True)"
   ]
  },
  {
   "cell_type": "code",
   "execution_count": null,
   "id": "8615b221-62cc-475a-9d5d-f7c12ac09122",
   "metadata": {
    "tags": []
   },
   "outputs": [],
   "source": [
    "aligning = True\n",
    "if aligning:\n",
    "    old_logGs = logGs\n",
    "    logGs = new_logGs\n",
    "    \n",
    "    old_Zs = Zs\n",
    "    Zs = new_Zs"
   ]
  },
  {
   "cell_type": "markdown",
   "id": "caf6319d-f5b7-4501-ba23-2a24b1b9d23f",
   "metadata": {},
   "source": [
    "## Dimensionality Reduction"
   ]
  },
  {
   "cell_type": "code",
   "execution_count": null,
   "id": "c9f11ff8-fa8f-41c7-95e2-284d4d74ab76",
   "metadata": {},
   "outputs": [],
   "source": [
    "# Perform DR on aligned ROI\n",
    "pca_red, tsne_red, umap_red = reduce_dims(logGs, perp=1100)"
   ]
  },
  {
   "cell_type": "code",
   "execution_count": null,
   "id": "13d46228-f13f-4817-89b2-5ac33d14ba5f",
   "metadata": {},
   "outputs": [],
   "source": [
    "fig, axs = plt.subplots(1, 3, figsize=(6, 2), dpi=600)\n",
    "axs[0].scatter(pca_red[:, 0], pca_red[:, 1], s=0.5)\n",
    "axs[1].scatter(tsne_red[:, 0], tsne_red[:, 1], s=0.5)\n",
    "axs[2].scatter(umap_red[:, 0], umap_red[:, 1], s=0.5)\n",
    "\n",
    "fig.tight_layout()"
   ]
  },
  {
   "cell_type": "code",
   "execution_count": null,
   "id": "ca3c469d-4cdb-4105-8ffb-78f5d64c52f2",
   "metadata": {},
   "outputs": [],
   "source": [
    "# Use a Lasso Selector to manually inspect a cluster.\n",
    "from LassoSelector import SelectFromCollection\n",
    "%matplotlib qt\n",
    "\n",
    "data_to_cluster = tsne_red\n",
    "fig, ax = plt.subplots()\n",
    "pts = ax.scatter(data_to_cluster[:, 0], data_to_cluster[:, 1], s=5)\n",
    "idxs = []\n",
    "\n",
    "selector = SelectFromCollection(ax, pts)\n",
    "\n",
    "def accept(event):\n",
    "    if event.key == \"enter\":\n",
    "        idxs = selector.ind\n",
    "        passed_traces = np.vstack(df.iloc[idxs].logG.values)\n",
    "        passed_Zs = np.vstack(df.iloc[idxs].Z.values)\n",
    "        avg_trace = passed_traces.mean(axis=0)\n",
    "        fig, ax = plt.subplots()\n",
    "        ax.plot(avg_trace)\n",
    "        # h = ax.hist2d(passed_Zs.flatten(), passed_traces.flatten(), bins=128, range=((0, 0.002), (-6, 0.3)), cmax=len(idxs))\n",
    "        # ax.hist(passed_traces.flatten(), bins=128)\n",
    "        # ax.set(ylim=(0, len(idxs)*10))\n",
    "\n",
    "fig.canvas.mpl_connect('key_press_event', accept)\n",
    "ax.set_title(\"Press enter to accept selected points.\")\n",
    "plt.show()"
   ]
  },
  {
   "cell_type": "code",
   "execution_count": null,
   "id": "3f2909a7-ae89-4abc-a169-6ae8266a6643",
   "metadata": {
    "tags": []
   },
   "outputs": [],
   "source": [
    "# Use a Data Picker to manually inspect a scatter point.\n",
    "%matplotlib qt\n",
    "data_to_cluster = tsne_red\n",
    "fig, ax = plt.subplots()\n",
    "tolerance = 1\n",
    "pts = ax.scatter(data_to_cluster[:, 0], data_to_cluster[:, 1], s=5, picker=tolerance)\n",
    "idxs = []\n",
    "\n",
    "def on_pick(event):\n",
    "    artist = event.artist\n",
    "    xmouse, ymouse = event.mouseevent.xdata, event.mouseevent.ydata\n",
    "    # x, y = artist.get_xdata(), artist.get_ydata()\n",
    "    ind=event.ind\n",
    "    traces = np.vstack(selected_df.iloc[ind].logG.values)\n",
    "    Zs = np.vstack(selected_df.iloc[ind].Z.values)\n",
    "    fig, ax = plt.subplots()\n",
    "    ax.plot(Zs.T, traces.T)\n",
    "    ax.set(xlim=(0, 0.002))\n",
    "\n",
    "fig.canvas.callbacks.connect('pick_event', on_pick)"
   ]
  },
  {
   "cell_type": "markdown",
   "id": "1187d2d1-bc72-4162-8191-65acbaa20192",
   "metadata": {},
   "source": [
    "## Clustering"
   ]
  },
  {
   "cell_type": "markdown",
   "id": "b4ff6712-d807-40c0-9508-914b3ec770e7",
   "metadata": {},
   "source": [
    "Cluster the 2D embeddings from the DR performed on aligned ROIs"
   ]
  },
  {
   "cell_type": "code",
   "execution_count": null,
   "id": "511e090d-13db-4072-a39c-1451ad693fd6",
   "metadata": {},
   "outputs": [],
   "source": [
    "%matplotlib inline"
   ]
  },
  {
   "cell_type": "code",
   "execution_count": null,
   "id": "4cd2157d-2e38-4733-91d1-46a59c011c15",
   "metadata": {},
   "outputs": [],
   "source": [
    "p_kmeans = KMeans(10, random_state=42).fit(pca_red)\n",
    "t_kmeans = KMeans(10, random_state=42).fit(tsne_red)\n",
    "u_kmeans = KMeans(10, random_state=42).fit(umap_red)"
   ]
  },
  {
   "cell_type": "code",
   "execution_count": null,
   "id": "c9fcc4de-8a32-46b3-8891-3e0e9b5d6d80",
   "metadata": {},
   "outputs": [],
   "source": [
    "fig, axs = plt.subplots(1, 3, figsize=(6, 2), dpi=600)\n",
    "axs[0].scatter(pca_red[:, 0], pca_red[:, 1], s=0.5, c=p_kmeans.labels_)\n",
    "axs[1].scatter(tsne_red[:, 0], tsne_red[:, 1], s=0.5, c=t_kmeans.labels_)\n",
    "axs[2].scatter(umap_red[:, 0], umap_red[:, 1], s=0.5, c=u_kmeans.labels_)"
   ]
  },
  {
   "cell_type": "code",
   "execution_count": null,
   "id": "bf8a8620-8195-4eba-a1f4-b70fd13ef746",
   "metadata": {},
   "outputs": [],
   "source": [
    "# Inspects the calculated clusters\n",
    "reducer = 'pca'\n",
    "labels = [2, 6, 1]\n",
    "fig, ax = plt.subplots()\n",
    "if reducer == 'pca':\n",
    "    kmean_clusts = p_kmeans.labels_\n",
    "    selected = np.isin(kmean_clusts, labels)\n",
    "    ax.scatter(pca_red[:, 0], pca_red[:, 1], c=selected)\n",
    "if reducer == 'tsne':\n",
    "    kmean_clusts = t_kmeans.labels_\n",
    "    selected = np.isin(kmean_clusts, labels)\n",
    "    ax.scatter(tsne_red[:, 0], tsne_red[:, 1], c=selected)\n",
    "if reducer == 'umap':\n",
    "    kmean_clusts = u_kmeans.labels_\n",
    "    selected = np.isin(kmean_clusts, labels)\n",
    "    ax.scatter(umap_red[:, 0], umap_red[:, 1], c=selected)"
   ]
  },
  {
   "cell_type": "code",
   "execution_count": null,
   "id": "0d76b9db-126d-4ee6-bf79-6bc68fa02988",
   "metadata": {},
   "outputs": [],
   "source": [
    "# Inspect grouping of clusters (example groupings shown)\n",
    "kmean_clusts = p_kmeans.labels_\n",
    "\n",
    "# clust1_labels = [0, 5]\n",
    "# clust2_labels = [3, 6]\n",
    "# clust3_labels = [4, 8]\n",
    "# clust4_labels = [2, 7, 9]\n",
    "\n",
    "clust1_labels = [0, 3, 4, 8]\n",
    "clust2_labels = [1, 5, 7, 9]\n",
    "clust3_labels = [2, 6]\n",
    "\n",
    "num_traces = tsne_red.shape[0]\n",
    "new_labels = np.zeros(num_traces)\n",
    "\n",
    "# new_labels = new_labels + (1 * np.isin(kmean_clusts, clust1_labels))\n",
    "# new_labels = new_labels + (2 * np.isin(kmean_clusts, clust2_labels))\n",
    "# new_labels = new_labels + (3 * np.isin(kmean_clusts, clust3_labels))\n",
    "# new_labels = new_labels + (4 * np.isin(kmean_clusts, clust4_labels))\n",
    "\n",
    "new_labels = new_labels + (0 * np.isin(kmean_clusts, clust1_labels))\n",
    "new_labels = new_labels + (1 * np.isin(kmean_clusts, clust2_labels))\n",
    "new_labels = new_labels + (2 * np.isin(kmean_clusts, clust3_labels))\n",
    "\n",
    "plt.scatter(pca_red[:, 0], pca_red[:, 1], c=new_labels)"
   ]
  },
  {
   "cell_type": "markdown",
   "id": "18a97a95-cdcb-47e9-8769-d729e7c7f96a",
   "metadata": {},
   "source": [
    "## Average BJ Traces\n",
    "Creates average BJ traces based on how clusters were grouped above"
   ]
  },
  {
   "cell_type": "code",
   "execution_count": null,
   "id": "5ac78f7f-364a-4f00-a4fd-7a575475ad7e",
   "metadata": {},
   "outputs": [],
   "source": [
    "mean_traces = []\n",
    "mean_Zs = []\n",
    "for label in np.unique(new_labels):\n",
    "    idxs = np.where(new_labels == label)\n",
    "    vals = logGs[idxs].mean(axis=0)\n",
    "    zvals = Zs[idxs].mean(axis=0)\n",
    "    mean_traces.append(vals)\n",
    "    mean_Zs.append(zvals)"
   ]
  },
  {
   "cell_type": "code",
   "execution_count": null,
   "id": "cc0d029e-ba6a-4691-b740-8e27a9260e6c",
   "metadata": {},
   "outputs": [],
   "source": [
    "unique_labels = np.unique(new_labels)\n",
    "num_clusters = len(unique_labels)\n",
    "\n",
    "cmap = mpl.cm.get_cmap('viridis')\n",
    "colors = [cmap(x) for x in np.linspace(0, 1, num_clusters)]\n",
    "artists = []\n",
    "fig, ax = plt.subplots(figsize=(6, 4), dpi=600)\n",
    "for i in range(num_clusters):\n",
    "    label = int(unique_labels[i])\n",
    "    print(label)\n",
    "    \n",
    "    art = ax.plot(np.array(mean_Zs)[label].T, np.array(mean_traces)[label].T, color=colors[label])\n",
    "    artists.append(art)\n",
    "ax.set(xlim=(0, 0.001))\n",
    "    \n",
    "# ax.legend(artists)"
   ]
  },
  {
   "cell_type": "markdown",
   "id": "3afc3a4b-2662-4ec0-aff3-a7e2d400c04c",
   "metadata": {},
   "source": [
    "# Figures"
   ]
  },
  {
   "cell_type": "code",
   "execution_count": null,
   "id": "e2a09c88-fd1f-4503-b8b9-f7d40a9235a7",
   "metadata": {},
   "outputs": [],
   "source": [
    "# Plots both the grouped clusters alongside their corresponding average BJ traces\n",
    "fig, axs = plt.subplots(1, 2, figsize=(6, 3), dpi=600)\n",
    "\n",
    "# axs[0].scatter(tsne_red[:, 0], tsne_red[:, 1], c=new_labels, s=1)\n",
    "axs[0].scatter(pca_red[:, 0], pca_red[:, 1], c=new_labels, s=1)\n",
    "\n",
    "for i in range(num_clusters):\n",
    "    label = int(unique_labels[i])\n",
    "    print(label)\n",
    "    \n",
    "    axs[1].plot(np.array(mean_Zs)[label].T, np.array(mean_traces)[label].T, color=colors[label])\n",
    "    # axs[1].hist(np.array)\n",
    "\n",
    "axs[0].set()\n",
    "axs[1].set(xlim=(-0.000, 0.0015), ylim=(-6, 0.3))\n",
    "\n",
    "axs[1].set_ylabel('log(G/G0)', weight='bold')\n",
    "axs[1].set_xlabel('Displacement / {}m'.format(chr(956)), weight='bold')\n",
    "\n",
    "for axis in ['top', 'right', 'bottom', 'left']:\n",
    "    axs[0].spines[axis].set_linewidth(1.5)\n",
    "    axs[1].spines[axis].set_linewidth(1.5)\n",
    "    \n",
    "axs[0].annotate('(a)', xy=(-0.2, 1.05), xytext=(0, 0), xycoords='axes fraction', textcoords='offset pixels', weight='bold')\n",
    "axs[1].annotate('(b)', xy=(-0.2, 1.05), xytext=(0, 0), xycoords='axes fraction', textcoords='offset pixels', weight='bold')\n",
    "    \n",
    "fig.tight_layout()\n",
    "fig.savefig(\"BPY Clean AlignROI DR Avg Traces.png\")\n"
   ]
  },
  {
   "cell_type": "code",
   "execution_count": null,
   "id": "6771f828-be11-43ae-9ef7-f255b4af0318",
   "metadata": {},
   "outputs": [],
   "source": [
    "# Plot of DR outputs after alignment and ROI focussing\n",
    "fig, axs = plt.subplots(1, 3, figsize=(6, 2), dpi=600)\n",
    "\n",
    "axs[0].scatter(pca_red[:, 0], pca_red[:, 1], s=1)#, c=p_kmeans.labels_)\n",
    "axs[1].scatter(tsne_red[:, 0], tsne_red[:, 1], s=1)#, c=t_kmeans.labels_)\n",
    "axs[2].scatter(umap_red[:, 0], umap_red[:, 1], s=1)#, c=u_kmeans.labels_)\n",
    "\n",
    "\n",
    "axs[0].tick_params(width=1.5)\n",
    "axs[1].tick_params(width=1.5)\n",
    "axs[2].tick_params(width=1.5)\n",
    "for axis in ['top', 'right', 'bottom', 'left']:\n",
    "    axs[0].spines[axis].set_linewidth(1.5)\n",
    "    axs[1].spines[axis].set_linewidth(1.5)\n",
    "    axs[2].spines[axis].set_linewidth(1.5)\n",
    "\n",
    "labels = ['(a)', '(b)','(c)']\n",
    "for i in range(len(axs)):\n",
    "    axs[i].annotate(labels[i], xy=(-0.25, 1.05), xytext=(0, 0), xycoords='axes fraction', textcoords='offset pixels', weight='bold')\n",
    "\n",
    "fig.tight_layout()\n",
    "# fig.savefig(\"BPY Clean AlignROI DR.png\")"
   ]
  }
 ],
 "metadata": {
  "kernelspec": {
   "display_name": "Python 3 (ipykernel)",
   "language": "python",
   "name": "python3"
  },
  "language_info": {
   "codemirror_mode": {
    "name": "ipython",
    "version": 3
   },
   "file_extension": ".py",
   "mimetype": "text/x-python",
   "name": "python",
   "nbconvert_exporter": "python",
   "pygments_lexer": "ipython3",
   "version": "3.10.6"
  }
 },
 "nbformat": 4,
 "nbformat_minor": 5
}
