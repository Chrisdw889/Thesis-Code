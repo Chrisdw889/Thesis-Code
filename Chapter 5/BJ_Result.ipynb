{
 "cells": [
  {
   "cell_type": "code",
   "execution_count": null,
   "id": "7aca3d4e-99a0-4b55-822c-bfc5db1cfc25",
   "metadata": {},
   "outputs": [],
   "source": [
    "import os, pickle\n",
    "\n",
    "import numpy as np\n",
    "import pandas as pd\n",
    "\n",
    "import matplotlib.pyplot as plt"
   ]
  },
  {
   "cell_type": "markdown",
   "id": "d9e4be4c-3062-48ae-a3cb-83be0681240d",
   "metadata": {},
   "source": [
    "Merger of all the trialed analysis processes for a final result of molecules 1 and 2"
   ]
  },
  {
   "cell_type": "markdown",
   "id": "16431214-6b96-4c2e-b5a8-64a86ba0cc5a",
   "metadata": {},
   "source": [
    "# Load Data"
   ]
  },
  {
   "cell_type": "code",
   "execution_count": null,
   "id": "a8b1c760-76c5-4d6b-8481-3615ba01cdca",
   "metadata": {},
   "outputs": [],
   "source": [
    "ope_directory = 'INSERT DIRECTORY' # Directory containing the cluster and cleaned data files for molecule 1\n",
    "bpy_directory = 'INSERT DIRECTORY' # Directory containing the cluster and cleaned data files for molecule 2\n",
    "\n",
    "dfile = 'all_traces_clean_df_2_1.pkl' # Cleaned data file names\n",
    "cfile = 'clean_clust_df_2_1.pkl' # Cluster data file names\n",
    "\n",
    "# Load DataFrames\n",
    "ope_df_all = pd.read_pickle(os.path.join(ope_directory, dfile)).reset_index(drop=True)\n",
    "bpy_df_all = pd.read_pickle(os.path.join(bpy_directory, dfile)).reset_index(drop=True)\n",
    "\n",
    "ope_clust_df = pd.read_pickle(os.path.join(ope_directory, cfile))\n",
    "bpy_clust_df = pd.read_pickle(os.path.join(bpy_directory, cfile))"
   ]
  },
  {
   "cell_type": "code",
   "execution_count": null,
   "id": "147eece2-5b32-452d-9dba-f76318f7d92e",
   "metadata": {},
   "outputs": [],
   "source": [
    "# Select Subsets\n",
    "ope_df = ope_df_all.loc[(ope_df_all.trial != 'Trial4') & (ope_df_all.passed == 1)]\n",
    "bpy_df = bpy_df_all.loc[(bpy_df_all.trial == 'Trial6') & (bpy_df_all.passed == 1)]"
   ]
  },
  {
   "cell_type": "code",
   "execution_count": null,
   "id": "04bd5e43-6f97-43b6-9399-a9608ec21f99",
   "metadata": {},
   "outputs": [],
   "source": [
    "## ope best pca, bpy best umap\n",
    "ope_red = 'pca'\n",
    "bpy_red = 'umap'\n",
    "\n",
    "ope_clusts = [1, 4]\n",
    "bpy_clusts = [0, 1, 2, 3, 5, 6, 7, 9]\n",
    "\n",
    "ope_selected = ope_clust_df.loc[ope_red, 'kmeans'].isin(ope_clusts)\n",
    "bpy_selected = bpy_clust_df.loc[bpy_red, 'kmeans'].isin(bpy_clusts)\n",
    "\n",
    "ope_logG = np.vstack(ope_df.loc[ope_selected.values].logG.values)\n",
    "bpy_logG = np.vstack(bpy_df.loc[bpy_selected.values].logG.values)\n",
    "\n",
    "ope_lens = np.vstack(ope_df.loc[ope_selected.values].PlateauLen.values)\n",
    "bpy_lens = np.vstack(bpy_df.loc[bpy_selected.values].PlateauLen.values)\n"
   ]
  },
  {
   "cell_type": "markdown",
   "id": "3dc56a0a-278e-4c45-b0cb-c614a7724eb2",
   "metadata": {},
   "source": [
    "# Plot Figure"
   ]
  },
  {
   "cell_type": "code",
   "execution_count": null,
   "id": "e29c79fe-2f66-4dbb-b1b9-3032379a9a11",
   "metadata": {},
   "outputs": [],
   "source": [
    "# histogram constants\n",
    "logG_bins = 128\n",
    "z_bins = 116\n",
    "logG_min, logG_max = -6, 0.8\n",
    "\n",
    "from scipy.optimize import curve_fit\n",
    "\n",
    "def gauss(x, A, mu, sig):\n",
    "    y = A * np.exp((-1 * (x - mu) ** 2) / (2 * sig**2))\n",
    "    return y\n",
    "    \n",
    "def gauss2(x, A, mu1, sig1, B, mu2, sig2):\n",
    "    return gauss(x, A, mu1, sig1) + gauss(x, B, mu2, sig2)\n",
    "\n",
    "def fit_dist(func, x, y, p0, lims):\n",
    "    '''\n",
    "    Apply a curve fit with the given function\n",
    "    '''\n",
    "    idxs = (x > lims[0]) & (x < lims[1])\n",
    "    x = x[idxs]\n",
    "    y = y[idxs]\n",
    "    params, cov = curve_fit(func, x, y)\n",
    "    return params\n",
    "\n",
    "def plot_logG_hist(logGs, logG_max_counts, fit_func, p0, lims, ax, p0_double=None, lims_double=None, double_fit=False):\n",
    "    '''\n",
    "    Plot a conductance histogram with gaussian fit on the provided axis\n",
    "    '''\n",
    "    bin_edges = np.histogram_bin_edges(logGs.flatten(), bins=logG_bins)\n",
    "    bin_mids = bin_edges[:-1] + (np.diff(bin_edges) / 2)\n",
    "    counts, _ = np.histogram(logGs.flatten(), bins=bin_edges)\n",
    "    \n",
    "    ax.bar(bin_mids, counts, width=np.diff(bin_edges))\n",
    "    \n",
    "    if double_fit:\n",
    "        params1 = fit_dist(fit_func, bin_mids, counts, p0, lims)\n",
    "        params2 = fit_dist(fit_func, bin_mids, counts, p0_double, lims_double)\n",
    "        print(params1)\n",
    "        print(params2)\n",
    "        \n",
    "        y1 = fit_func(bin_mids, *params1)\n",
    "        y2 = fit_func(bin_mids, *params2)\n",
    "        \n",
    "        ax.plot(bin_mids, y1, color='red')\n",
    "        ax.plot(bin_mids, y2, color='red')\n",
    "        \n",
    "    else:\n",
    "        params = fit_dist(fit_func, bin_mids, counts, p0, lims)\n",
    "        print(params)\n",
    "        ax.plot(bin_mids, fit_func(bin_mids, *params), color='red')\n",
    "    \n",
    "    ax.set(xlim=(logG_min, logG_max), ylim=(0, logG_max_counts))\n",
    "    \n",
    "def plot_len_hist(lens, z_min, z_max, fit_func, p0, lims, ax):\n",
    "    '''\n",
    "    Plot a plateau length histogram on the provided axis\n",
    "    '''\n",
    "    bin_edges = np.linspace(z_min, z_max, z_bins+1)\n",
    "    bin_mids = bin_edges[:-1] + (np.diff(bin_edges) / 2)\n",
    "    counts, _ = np.histogram(lens, bins=bin_edges)\n",
    "    \n",
    "    params = fit_dist(fit_func, bin_mids, counts, p0, lims)\n",
    "    print(params)\n",
    "    ax.plot(bin_mids, fit_func(bin_mids, *params), color='red')\n",
    "    \n",
    "    ax.bar(bin_mids, counts, width=np.diff(bin_edges))"
   ]
  },
  {
   "cell_type": "code",
   "execution_count": null,
   "id": "615e6de4-7d03-491b-b3df-412693f63a29",
   "metadata": {},
   "outputs": [],
   "source": [
    "# Plot Histograms of conductance and plateau lengths for both molecules 1 and 2 with applied gaussian fits\n",
    "fig, axs = plt.subplots(2, 2, figsize=(6, 4), dpi=600)\n",
    "\n",
    "plot_logG_hist(ope_logG, 3000, ax=axs[0, 0], fit_func=gauss, p0=(2000, -4, 0.5), lims=(-4, -1))\n",
    "plot_logG_hist(bpy_logG, 15000, ax=axs[1, 0], fit_func=gauss, p0=(3000, -3.7, 0.05), lims=(-4, -3.5), double_fit=True, p0_double=(6000, -3, 0.5), lims_double=(-3.5, -2.5))\n",
    "\n",
    "plot_len_hist(ope_lens, 0, 5E-3, ax=axs[0, 1], fit_func=gauss, p0=(7, 0.0021, 0.0002), lims=(0, 0.005))\n",
    "plot_len_hist(bpy_lens, 0, 5E-3, ax=axs[1, 1], fit_func=gauss, p0=(20, 0.001, 0.0001), lims=(0, 0.002))\n",
    "\n",
    "axs[0, 0].set(xticklabels=[], yticks=[])\n",
    "axs[0, 1].set(xticklabels=[], yticks=[])\n",
    "axs[1, 0].set(yticks=[])\n",
    "axs[1, 1].set(yticks=[])\n",
    "\n",
    "axs[0, 0].set_ylabel(\"Counts\", weight='bold')\n",
    "axs[1, 0].set_ylabel(\"Counts\", weight='bold')\n",
    "axs[1, 0].set_xlabel(\"log(G/G0)\", weight='bold')\n",
    "axs[1, 1].set_xlabel(\"Displacement / {}m\".format(chr(956)), weight='bold')\n",
    "\n",
    "\n",
    "labels = ['(a)', '(b)', '(c)', '(d)']\n",
    "for i, ax in enumerate(axs.flatten()):\n",
    "    ax.annotate(labels[i], xy=(-0.1, 1.05), xytext=(0, 0), xycoords='axes fraction', textcoords='offset pixels', weight='bold')\n",
    "    for axis in ['top', 'right', 'bottom', 'left']:\n",
    "        ax.spines[axis].set_linewidth(1.5)\n",
    "\n",
    "\n",
    "fig.tight_layout()\n",
    "# fig.savefig(\"Molecule Results.png\", bbox_inches='tight')"
   ]
  }
 ],
 "metadata": {
  "kernelspec": {
   "display_name": "Python 3 (ipykernel)",
   "language": "python",
   "name": "python3"
  },
  "language_info": {
   "codemirror_mode": {
    "name": "ipython",
    "version": 3
   },
   "file_extension": ".py",
   "mimetype": "text/x-python",
   "name": "python",
   "nbconvert_exporter": "python",
   "pygments_lexer": "ipython3",
   "version": "3.10.6"
  }
 },
 "nbformat": 4,
 "nbformat_minor": 5
}
