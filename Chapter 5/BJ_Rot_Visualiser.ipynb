{
 "cells": [
  {
   "cell_type": "code",
   "execution_count": null,
   "id": "9dc2e842-0faf-4dc3-8703-90e226a44848",
   "metadata": {},
   "outputs": [],
   "source": [
    "import os\n",
    "\n",
    "import pandas as pd\n",
    "import numpy as np\n",
    "\n",
    "from scipy.optimize import curve_fit\n",
    "\n",
    "import matplotlib.pyplot as plt"
   ]
  },
  {
   "cell_type": "markdown",
   "id": "dc3ce97d-9241-4931-bdf8-71350a2118d2",
   "metadata": {},
   "source": [
    "# Load Data"
   ]
  },
  {
   "cell_type": "code",
   "execution_count": null,
   "id": "671e9e7c-c5f3-4da5-8560-e77ce92ef158",
   "metadata": {},
   "outputs": [],
   "source": [
    "directory = 'INSERT DIRECTORY' # Directory to aligned ROI focussed Rotaxane Dataset.\n",
    "file = 'INSERT FILENAME'\n",
    "df = pd.read_pickle(os.path.join(directory, file))\n",
    "df.head()"
   ]
  },
  {
   "cell_type": "markdown",
   "id": "b3ca60a6-8f38-4a14-8d5b-19feff950064",
   "metadata": {},
   "source": [
    "# Plot 1D conductance histogram with gaussian fit¶¶¶¶¶¶¶"
   ]
  },
  {
   "cell_type": "code",
   "execution_count": null,
   "id": "3b0d687a-24f4-461d-a875-0e009c2c67aa",
   "metadata": {},
   "outputs": [],
   "source": [
    "def gauss(x, A, mu, sig):\n",
    "    y = A * np.exp((-1 * (x - mu) ** 2) / (2 * sig**2))\n",
    "    return y"
   ]
  },
  {
   "cell_type": "code",
   "execution_count": null,
   "id": "9b625a16-ad37-4b5d-a476-f2d118eb0ba8",
   "metadata": {},
   "outputs": [],
   "source": [
    "logGs = np.vstack(df.logG.values)\n",
    "Z = np.vstack(df.Z.values)\n",
    "plats = np.vstack(df.PlateauLen.values)"
   ]
  },
  {
   "cell_type": "code",
   "execution_count": null,
   "id": "f40a067c-f514-47b4-973d-1142be5e22ae",
   "metadata": {},
   "outputs": [],
   "source": [
    "bin_edges = np.histogram_bin_edges(logGs.flatten(), bins=128)\n",
    "bin_mids = bin_edges[:-1] + (np.diff(bin_edges) / 2)\n",
    "counts, _ = np.histogram(logGs.flatten(), bins=bin_edges)\n",
    "\n",
    "fit_lims = (-2.4, -1.7)\n",
    "idxs = (bin_mids > fit_lims[0]) & (bin_mids < fit_lims[1])\n",
    "x = bin_mids[idxs]\n",
    "y = counts[idxs]\n",
    "\n",
    "params, cov = curve_fit(gauss, x, y)\n",
    "\n",
    "fig, ax = plt.subplots()\n",
    "ax.bar(bin_mids, counts, width=np.diff(bin_edges))\n",
    "ax.plot(bin_mids, gauss(bin_mids, *params), color='red')\n",
    "ax.set(ylim=(0, 30000), xlim=(-6, 0.8))\n",
    "print(params)"
   ]
  }
 ],
 "metadata": {
  "kernelspec": {
   "display_name": "Python 3 (ipykernel)",
   "language": "python",
   "name": "python3"
  },
  "language_info": {
   "codemirror_mode": {
    "name": "ipython",
    "version": 3
   },
   "file_extension": ".py",
   "mimetype": "text/x-python",
   "name": "python",
   "nbconvert_exporter": "python",
   "pygments_lexer": "ipython3",
   "version": "3.10.6"
  }
 },
 "nbformat": 4,
 "nbformat_minor": 5
}
